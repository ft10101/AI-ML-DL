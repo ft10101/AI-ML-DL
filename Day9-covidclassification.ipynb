{
 "cells": [
  {
   "cell_type": "code",
   "execution_count": 1,
   "id": "7adf64b5",
   "metadata": {},
   "outputs": [],
   "source": [
    "import os\n",
    "from keras.models import Model \n",
    "import numpy as np  \n",
    "import tensorflow as tf  \n",
    "from glob import glob   \n",
    "import time  \n",
    "from PIL import Image  \n",
    "import shutil\n",
    "from collections import Counter\n",
    "import tensorflow as tf\n",
    "%matplotlib inline\n",
    "import matplotlib.pyplot as plt \n",
    "from random import randint"
   ]
  },
  {
   "cell_type": "code",
   "execution_count": 2,
   "id": "dc4785c0",
   "metadata": {},
   "outputs": [
    {
     "name": "stdout",
     "output_type": "stream",
     "text": [
      "111\n",
      "70\n",
      "70\n"
     ]
    }
   ],
   "source": [
    "#Train Paths\n",
    "covid_paths = glob('C:/Users/Research6/Desktop/conf/New exp/train/Covid/**')\n",
    "print(len(covid_paths))\n",
    "Normal_paths = glob('C:/Users/Research6/Desktop/conf/New exp/train/Normal/**')\n",
    "print(len(Normal_paths))\n",
    "ViralPneumonia_paths = glob('C:/Users/Research6/Desktop/conf/New exp/train/Viral Pneumonia/**')\n",
    "print(len(ViralPneumonia_paths))"
   ]
  },
  {
   "cell_type": "code",
   "execution_count": 3,
   "id": "f902198a",
   "metadata": {},
   "outputs": [
    {
     "name": "stdout",
     "output_type": "stream",
     "text": [
      "26\n",
      "20\n",
      "20\n"
     ]
    }
   ],
   "source": [
    "#Test Paths\n",
    "covid_test_paths = glob('C:/Users/Research6/Desktop/conf/New exp/test/Covid/**')\n",
    "print(len(covid_test_paths))\n",
    "Normal_test_paths = glob('C:/Users/Research6/Desktop/conf/New exp/test/Normal/**')\n",
    "print(len(Normal_test_paths))\n",
    "ViralPneumonia_test_paths = glob('C:/Users/Research6/Desktop/conf/New exp/test/Viral Pneumonia/**')\n",
    "print(len(ViralPneumonia_test_paths))"
   ]
  },
  {
   "cell_type": "code",
   "execution_count": 4,
   "id": "552f4ada",
   "metadata": {},
   "outputs": [],
   "source": [
    "Classes = 3\n",
    "# LR = 0.003 \n",
    "LR = 0.001\n",
    "# LR =  1e-07 \n",
    "epoch = 100\n",
    "#experiment_Name = \"Smote_1_FMNIST\""
   ]
  },
  {
   "cell_type": "code",
   "execution_count": 5,
   "id": "1069b3de",
   "metadata": {},
   "outputs": [],
   "source": [
    "image_dimensions = 32\n",
    "import cv2 \n",
    "data_train = [] \n",
    "label_train = [] \n",
    "# number_of_images\n",
    "# for c,n,v in zip(covid_paths,Normal_paths,ViralPneumonia_paths):\n",
    "for c in (covid_paths):\n",
    "  data_train.append(cv2.resize(cv2.imread(c),(image_dimensions,image_dimensions)))\n",
    "  label_train.append(0)\n",
    "for n in (Normal_paths):    \n",
    "  data_train.append(cv2.resize(cv2.imread(n),(image_dimensions,image_dimensions)))\n",
    "  label_train.append(1)\n",
    "for v in (ViralPneumonia_paths):\n",
    "  data_train.append(cv2.resize(cv2.imread(v),(image_dimensions,image_dimensions)))\n",
    "  label_train.append(2)"
   ]
  },
  {
   "cell_type": "code",
   "execution_count": 6,
   "id": "480d5bc8",
   "metadata": {},
   "outputs": [
    {
     "data": {
      "text/plain": [
       "251"
      ]
     },
     "execution_count": 6,
     "metadata": {},
     "output_type": "execute_result"
    }
   ],
   "source": [
    "len(data_train)"
   ]
  },
  {
   "cell_type": "code",
   "execution_count": 7,
   "id": "e446f7fd",
   "metadata": {},
   "outputs": [
    {
     "data": {
      "text/plain": [
       "251"
      ]
     },
     "execution_count": 7,
     "metadata": {},
     "output_type": "execute_result"
    }
   ],
   "source": [
    "len(covid_paths + Normal_paths + ViralPneumonia_paths )"
   ]
  },
  {
   "cell_type": "code",
   "execution_count": 8,
   "id": "dae8816a",
   "metadata": {},
   "outputs": [],
   "source": [
    "image_dimensions = 32\n",
    "import cv2 \n",
    "data_test = [] \n",
    "label_test = [] \n",
    "# number_of_images\n",
    "for c in (covid_test_paths):\n",
    "  data_test.append(cv2.resize(cv2.imread(c),(image_dimensions,image_dimensions)))\n",
    "  label_test.append(0)\n",
    "for n in (Normal_test_paths):    \n",
    "  data_test.append(cv2.resize(cv2.imread(n),(image_dimensions,image_dimensions)))\n",
    "  label_test.append(1)\n",
    "for v in (ViralPneumonia_test_paths):\n",
    "  data_test.append(cv2.resize(cv2.imread(v),(image_dimensions,image_dimensions)))\n",
    "  label_test.append(2)\n",
    "    "
   ]
  },
  {
   "cell_type": "code",
   "execution_count": 9,
   "id": "04864b1f",
   "metadata": {},
   "outputs": [],
   "source": [
    "x_train = data_train[:]\n",
    "y_train =  label_train[:]\n",
    "\n",
    "x_test = data_test[:]\n",
    "y_test =  label_test[:]"
   ]
  },
  {
   "cell_type": "code",
   "execution_count": 10,
   "id": "e7a4d874",
   "metadata": {},
   "outputs": [
    {
     "data": {
      "text/plain": [
       "251"
      ]
     },
     "execution_count": 10,
     "metadata": {},
     "output_type": "execute_result"
    }
   ],
   "source": [
    "len(x_train)"
   ]
  },
  {
   "cell_type": "code",
   "execution_count": 11,
   "id": "e1573e71",
   "metadata": {},
   "outputs": [
    {
     "data": {
      "text/plain": [
       "66"
      ]
     },
     "execution_count": 11,
     "metadata": {},
     "output_type": "execute_result"
    }
   ],
   "source": [
    "len(x_test)"
   ]
  },
  {
   "cell_type": "code",
   "execution_count": 12,
   "id": "80ca8dc2",
   "metadata": {},
   "outputs": [
    {
     "data": {
      "text/plain": [
       "[0, 1, 2]"
      ]
     },
     "execution_count": 12,
     "metadata": {},
     "output_type": "execute_result"
    }
   ],
   "source": [
    "label_list = [i for i in range(Classes)]\n",
    "label_list"
   ]
  },
  {
   "cell_type": "code",
   "execution_count": 13,
   "id": "b05d6a75",
   "metadata": {},
   "outputs": [
    {
     "name": "stderr",
     "output_type": "stream",
     "text": [
      "C:\\Users\\Research6\\.conda\\envs\\pytorch\\lib\\site-packages\\seaborn\\_decorators.py:36: FutureWarning: Pass the following variable as a keyword arg: x. From version 0.12, the only valid positional argument will be `data`, and passing other arguments without an explicit keyword will result in an error or misinterpretation.\n",
      "  warnings.warn(\n"
     ]
    },
    {
     "data": {
      "text/plain": [
       "<AxesSubplot:ylabel='count'>"
      ]
     },
     "execution_count": 13,
     "metadata": {},
     "output_type": "execute_result"
    },
    {
     "data": {
      "image/png": "[encoded data removed]",
      "text/plain": [
       "<Figure size 432x288 with 1 Axes>"
      ]
     },
     "metadata": {
      "needs_background": "light"
     },
     "output_type": "display_data"
    }
   ],
   "source": [
    "import seaborn as sns \n",
    "sns.countplot(np.array(y_train))"
   ]
  },
  {
   "cell_type": "code",
   "execution_count": 14,
   "id": "718d0f88",
   "metadata": {},
   "outputs": [
    {
     "name": "stdout",
     "output_type": "stream",
     "text": [
      "Epoch 1/100\n",
      "8/8 [==============================] - 26s 26ms/step - loss: 96.2608 - accuracy: 0.4223\n",
      "Epoch 2/100\n",
      "8/8 [==============================] - 0s 5ms/step - loss: 4.0597 - accuracy: 0.5578\n",
      "Epoch 3/100\n",
      "8/8 [==============================] - 0s 5ms/step - loss: 0.6858 - accuracy: 0.8167\n",
      "Epoch 4/100\n",
      "8/8 [==============================] - 0s 6ms/step - loss: 0.5043 - accuracy: 0.8367\n",
      "Epoch 5/100\n",
      "8/8 [==============================] - 0s 5ms/step - loss: 0.3811 - accuracy: 0.8725\n",
      "Epoch 6/100\n",
      "8/8 [==============================] - 0s 5ms/step - loss: 0.2186 - accuracy: 0.9203\n",
      "Epoch 7/100\n",
      "8/8 [==============================] - 0s 5ms/step - loss: 0.2002 - accuracy: 0.9402\n",
      "Epoch 8/100\n",
      "8/8 [==============================] - 0s 5ms/step - loss: 0.1625 - accuracy: 0.9482\n",
      "Epoch 9/100\n",
      "8/8 [==============================] - 0s 5ms/step - loss: 0.0870 - accuracy: 0.9761\n",
      "Epoch 10/100\n",
      "8/8 [==============================] - 0s 5ms/step - loss: 0.0566 - accuracy: 0.9841\n",
      "Epoch 11/100\n",
      "8/8 [==============================] - 0s 5ms/step - loss: 0.0386 - accuracy: 0.9801\n",
      "Epoch 12/100\n",
      "8/8 [==============================] - 0s 5ms/step - loss: 0.0579 - accuracy: 0.9920\n",
      "Epoch 13/100\n",
      "8/8 [==============================] - 0s 7ms/step - loss: 0.0935 - accuracy: 0.9602\n",
      "Epoch 14/100\n",
      "8/8 [==============================] - 0s 5ms/step - loss: 0.0734 - accuracy: 0.9801\n",
      "Epoch 15/100\n",
      "8/8 [==============================] - 0s 5ms/step - loss: 0.0210 - accuracy: 1.0000\n",
      "Epoch 16/100\n",
      "8/8 [==============================] - 0s 7ms/step - loss: 0.0868 - accuracy: 0.9681\n",
      "Epoch 17/100\n",
      "8/8 [==============================] - 0s 5ms/step - loss: 0.1319 - accuracy: 0.9562\n",
      "Epoch 18/100\n",
      "8/8 [==============================] - 0s 5ms/step - loss: 0.1264 - accuracy: 0.9721\n",
      "Epoch 19/100\n",
      "8/8 [==============================] - 0s 5ms/step - loss: 0.0628 - accuracy: 0.9880\n",
      "Epoch 20/100\n",
      "8/8 [==============================] - 0s 6ms/step - loss: 0.0968 - accuracy: 0.9801\n",
      "Epoch 21/100\n",
      "8/8 [==============================] - 0s 5ms/step - loss: 0.0481 - accuracy: 0.9960\n",
      "Epoch 22/100\n",
      "8/8 [==============================] - 0s 5ms/step - loss: 0.0453 - accuracy: 0.9880\n",
      "Epoch 23/100\n",
      "8/8 [==============================] - 0s 7ms/step - loss: 0.0517 - accuracy: 0.9801\n",
      "Epoch 24/100\n",
      "8/8 [==============================] - 0s 5ms/step - loss: 0.0475 - accuracy: 0.9880\n",
      "Epoch 25/100\n",
      "8/8 [==============================] - 0s 5ms/step - loss: 0.0683 - accuracy: 0.9841\n",
      "Epoch 26/100\n",
      "8/8 [==============================] - 0s 5ms/step - loss: 0.1017 - accuracy: 0.9880\n",
      "Epoch 27/100\n",
      "8/8 [==============================] - 0s 6ms/step - loss: 0.0713 - accuracy: 0.9801\n",
      "Epoch 28/100\n",
      "8/8 [==============================] - 0s 6ms/step - loss: 0.0358 - accuracy: 0.9920\n",
      "Epoch 29/100\n",
      "8/8 [==============================] - 0s 5ms/step - loss: 0.0203 - accuracy: 0.9920\n",
      "Epoch 30/100\n",
      "8/8 [==============================] - 0s 6ms/step - loss: 0.0194 - accuracy: 0.9880\n",
      "Epoch 31/100\n",
      "8/8 [==============================] - 0s 5ms/step - loss: 0.0233 - accuracy: 0.9880\n",
      "Epoch 32/100\n",
      "8/8 [==============================] - 0s 5ms/step - loss: 0.0312 - accuracy: 0.9920\n",
      "Epoch 33/100\n",
      "8/8 [==============================] - 0s 5ms/step - loss: 0.0189 - accuracy: 0.9960\n",
      "Epoch 34/100\n",
      "8/8 [==============================] - 0s 4ms/step - loss: 0.0301 - accuracy: 0.9920\n",
      "Epoch 35/100\n",
      "8/8 [==============================] - 0s 5ms/step - loss: 0.0104 - accuracy: 0.9960\n",
      "Epoch 36/100\n",
      "8/8 [==============================] - 0s 5ms/step - loss: 0.0181 - accuracy: 0.9960\n",
      "Epoch 37/100\n",
      "8/8 [==============================] - 0s 5ms/step - loss: 0.0136 - accuracy: 0.9960\n",
      "Epoch 38/100\n",
      "8/8 [==============================] - 0s 7ms/step - loss: 0.0082 - accuracy: 1.0000\n",
      "Epoch 39/100\n",
      "8/8 [==============================] - 0s 5ms/step - loss: 0.0039 - accuracy: 1.0000\n",
      "Epoch 40/100\n",
      "8/8 [==============================] - 0s 5ms/step - loss: 0.0138 - accuracy: 0.9960\n",
      "Epoch 41/100\n",
      "8/8 [==============================] - 0s 5ms/step - loss: 0.0275 - accuracy: 0.9880\n",
      "Epoch 42/100\n",
      "8/8 [==============================] - 0s 5ms/step - loss: 0.0022 - accuracy: 1.0000\n",
      "Epoch 43/100\n",
      "8/8 [==============================] - 0s 5ms/step - loss: 0.0208 - accuracy: 0.9920\n",
      "Epoch 44/100\n",
      "8/8 [==============================] - 0s 5ms/step - loss: 0.0297 - accuracy: 0.9920\n",
      "Epoch 45/100\n",
      "8/8 [==============================] - 0s 5ms/step - loss: 0.0501 - accuracy: 0.9920\n",
      "Epoch 46/100\n",
      "8/8 [==============================] - 0s 7ms/step - loss: 0.0698 - accuracy: 0.9880\n",
      "Epoch 47/100\n",
      "8/8 [==============================] - 0s 5ms/step - loss: 0.0119 - accuracy: 0.9920\n",
      "Epoch 48/100\n",
      "8/8 [==============================] - 0s 5ms/step - loss: 0.0263 - accuracy: 0.9880\n",
      "Epoch 49/100\n",
      "8/8 [==============================] - 0s 5ms/step - loss: 0.0297 - accuracy: 0.9920\n",
      "Epoch 50/100\n",
      "8/8 [==============================] - 0s 5ms/step - loss: 0.0536 - accuracy: 0.9841\n",
      "Epoch 51/100\n",
      "8/8 [==============================] - 0s 5ms/step - loss: 0.0100 - accuracy: 0.9960\n",
      "Epoch 52/100\n",
      "8/8 [==============================] - 0s 7ms/step - loss: 0.0320 - accuracy: 0.9880\n",
      "Epoch 53/100\n",
      "8/8 [==============================] - 0s 5ms/step - loss: 0.0145 - accuracy: 1.0000\n",
      "Epoch 54/100\n",
      "8/8 [==============================] - 0s 5ms/step - loss: 0.0112 - accuracy: 0.9960\n",
      "Epoch 55/100\n",
      "8/8 [==============================] - 0s 5ms/step - loss: 0.0570 - accuracy: 0.9841\n",
      "Epoch 56/100\n",
      "8/8 [==============================] - 0s 5ms/step - loss: 0.1234 - accuracy: 0.9801\n",
      "Epoch 57/100\n",
      "8/8 [==============================] - 0s 5ms/step - loss: 0.0356 - accuracy: 0.9841\n",
      "Epoch 58/100\n",
      "8/8 [==============================] - 0s 7ms/step - loss: 0.0166 - accuracy: 0.9920\n",
      "Epoch 59/100\n",
      "8/8 [==============================] - 0s 7ms/step - loss: 0.0051 - accuracy: 0.9960\n",
      "Epoch 60/100\n",
      "8/8 [==============================] - 0s 5ms/step - loss: 0.0428 - accuracy: 0.9841\n",
      "Epoch 61/100\n",
      "8/8 [==============================] - 0s 4ms/step - loss: 0.0310 - accuracy: 0.9920\n",
      "Epoch 62/100\n",
      "8/8 [==============================] - 0s 7ms/step - loss: 0.0670 - accuracy: 0.9880\n",
      "Epoch 63/100\n",
      "8/8 [==============================] - 0s 6ms/step - loss: 0.0287 - accuracy: 0.9880\n",
      "Epoch 64/100\n",
      "8/8 [==============================] - 0s 5ms/step - loss: 0.0211 - accuracy: 0.9920\n",
      "Epoch 65/100\n",
      "8/8 [==============================] - 0s 6ms/step - loss: 0.0362 - accuracy: 0.9920\n",
      "Epoch 66/100\n",
      "8/8 [==============================] - 0s 5ms/step - loss: 0.0475 - accuracy: 0.9920\n",
      "Epoch 67/100\n",
      "8/8 [==============================] - 0s 5ms/step - loss: 0.0176 - accuracy: 0.9920\n",
      "Epoch 68/100\n",
      "8/8 [==============================] - 0s 5ms/step - loss: 0.0209 - accuracy: 0.9920\n",
      "Epoch 69/100\n",
      "8/8 [==============================] - 0s 5ms/step - loss: 0.0187 - accuracy: 0.9960\n",
      "Epoch 70/100\n",
      "8/8 [==============================] - 0s 6ms/step - loss: 0.0193 - accuracy: 0.9960\n",
      "Epoch 71/100\n",
      "8/8 [==============================] - 0s 6ms/step - loss: 0.0084 - accuracy: 0.9960\n",
      "Epoch 72/100\n",
      "8/8 [==============================] - 0s 6ms/step - loss: 0.0164 - accuracy: 0.9920\n",
      "Epoch 73/100\n",
      "8/8 [==============================] - 0s 5ms/step - loss: 0.0163 - accuracy: 0.9920\n",
      "Epoch 74/100\n",
      "8/8 [==============================] - 0s 5ms/step - loss: 0.0129 - accuracy: 0.9960\n",
      "Epoch 75/100\n",
      "8/8 [==============================] - 0s 5ms/step - loss: 0.0208 - accuracy: 0.9920\n",
      "Epoch 76/100\n",
      "8/8 [==============================] - 0s 5ms/step - loss: 0.0790 - accuracy: 0.9920\n",
      "Epoch 77/100\n",
      "8/8 [==============================] - 0s 6ms/step - loss: 0.0256 - accuracy: 0.9920\n",
      "Epoch 78/100\n",
      "8/8 [==============================] - 0s 5ms/step - loss: 0.0151 - accuracy: 0.9920\n",
      "Epoch 79/100\n",
      "8/8 [==============================] - 0s 5ms/step - loss: 0.0125 - accuracy: 0.9960\n",
      "Epoch 80/100\n",
      "8/8 [==============================] - 0s 5ms/step - loss: 0.0166 - accuracy: 0.9920\n",
      "Epoch 81/100\n",
      "8/8 [==============================] - 0s 5ms/step - loss: 0.0123 - accuracy: 0.9960\n",
      "Epoch 82/100\n",
      "8/8 [==============================] - 0s 5ms/step - loss: 0.0105 - accuracy: 0.9960\n",
      "Epoch 83/100\n",
      "8/8 [==============================] - 0s 5ms/step - loss: 0.0025 - accuracy: 1.0000\n",
      "Epoch 84/100\n",
      "8/8 [==============================] - 0s 5ms/step - loss: 0.0526 - accuracy: 0.9801\n",
      "Epoch 85/100\n",
      "8/8 [==============================] - 0s 5ms/step - loss: 0.0418 - accuracy: 0.9880\n",
      "Epoch 86/100\n",
      "8/8 [==============================] - 0s 5ms/step - loss: 0.0238 - accuracy: 0.9920\n",
      "Epoch 87/100\n",
      "8/8 [==============================] - 0s 5ms/step - loss: 0.0665 - accuracy: 0.9920\n",
      "Epoch 88/100\n",
      "8/8 [==============================] - 0s 5ms/step - loss: 0.0308 - accuracy: 0.9880\n",
      "Epoch 89/100\n",
      "8/8 [==============================] - 0s 5ms/step - loss: 0.0940 - accuracy: 0.9841\n",
      "Epoch 90/100\n",
      "8/8 [==============================] - 0s 5ms/step - loss: 0.0572 - accuracy: 0.9841\n",
      "Epoch 91/100\n",
      "8/8 [==============================] - 0s 5ms/step - loss: 0.0476 - accuracy: 0.9841\n",
      "Epoch 92/100\n",
      "8/8 [==============================] - 0s 5ms/step - loss: 0.0463 - accuracy: 0.9721\n",
      "Epoch 93/100\n",
      "8/8 [==============================] - 0s 5ms/step - loss: 0.0065 - accuracy: 1.0000\n",
      "Epoch 94/100\n",
      "8/8 [==============================] - 0s 5ms/step - loss: 0.0091 - accuracy: 0.9960\n",
      "Epoch 95/100\n",
      "8/8 [==============================] - 0s 5ms/step - loss: 0.0273 - accuracy: 0.9960\n",
      "Epoch 96/100\n",
      "8/8 [==============================] - 0s 5ms/step - loss: 0.0077 - accuracy: 0.9960\n",
      "Epoch 97/100\n",
      "8/8 [==============================] - 0s 5ms/step - loss: 0.0191 - accuracy: 0.9880\n",
      "Epoch 98/100\n",
      "8/8 [==============================] - 0s 5ms/step - loss: 0.0138 - accuracy: 0.9960\n",
      "Epoch 99/100\n",
      "8/8 [==============================] - 0s 5ms/step - loss: 0.0207 - accuracy: 0.9960\n",
      "Epoch 100/100\n",
      "8/8 [==============================] - 0s 5ms/step - loss: 0.0100 - accuracy: 0.9960\n"
     ]
    }
   ],
   "source": [
    "def create_classical_model():\n",
    "    # A simple model based off LeNet from https://keras.io/examples/mnist_cnn/\n",
    "    model = tf.keras.Sequential()\n",
    "    model.add(tf.keras.layers.Conv2D(32, [3, 3], activation='relu', input_shape=(32,32,3)))\n",
    "    model.add(tf.keras.layers.Conv2D(64, [3, 3], activation='relu'))\n",
    "    model.add(tf.keras.layers.MaxPooling2D(pool_size=(2, 2)))\n",
    "    model.add(tf.keras.layers.Dropout(0.25))\n",
    "    model.add(tf.keras.layers.Flatten()\n",
    "    )\n",
    "    model.add(tf.keras.layers.Dense(128, activation='relu'))\n",
    "    model.add(tf.keras.layers.Dropout(0.5))\n",
    "    model.add(tf.keras.layers.Dense(3))\n",
    "    return model\n",
    "\n",
    "\n",
    "model = create_classical_model()\n",
    "\n",
    "\n",
    "\n",
    "optimizer = tf.keras.optimizers.Adam(LR)\n",
    "# optimizer.learning_rate.assign(0.00001)\n",
    "\n",
    "\n",
    "\n",
    "\n",
    "\n",
    "model.compile(loss=tf.keras.losses.SparseCategoricalCrossentropy(from_logits=True),\n",
    "              optimizer=optimizer,\n",
    "              metrics=['accuracy'])\n",
    "\n",
    "\n",
    "\n",
    "# upto = int(min_working_no *.7)\n",
    "# print(upto)\n",
    "history2 = model.fit(np.array(x_train),\n",
    "        np.array(y_train),\n",
    "        epochs=100,\n",
    "        )\n"
   ]
  },
  {
   "cell_type": "code",
   "execution_count": 15,
   "id": "ed4e363d",
   "metadata": {},
   "outputs": [
    {
     "data": {
      "text/plain": [
       "'accuracy >> 0.8939393758773804'"
      ]
     },
     "execution_count": 15,
     "metadata": {},
     "output_type": "execute_result"
    }
   ],
   "source": [
    "\"accuracy >> {}\".format(model.evaluate(np.array(x_test), np.array(y_test), verbose=0)[1]) "
   ]
  },
  {
   "cell_type": "code",
   "execution_count": 16,
   "id": "b692d498",
   "metadata": {},
   "outputs": [],
   "source": [
    "y_prob = model.predict(np.array(x_test)) \n",
    "y_classes = y_prob.argmax(axis=-1)"
   ]
  },
  {
   "cell_type": "code",
   "execution_count": 17,
   "id": "50ad167d",
   "metadata": {},
   "outputs": [
    {
     "name": "stdout",
     "output_type": "stream",
     "text": [
      "              precision    recall  f1-score   support\n",
      "\n",
      "           0       1.00      0.92      0.96        26\n",
      "           1       0.82      0.90      0.86        20\n",
      "           2       0.85      0.85      0.85        20\n",
      "\n",
      "    accuracy                           0.89        66\n",
      "   macro avg       0.89      0.89      0.89        66\n",
      "weighted avg       0.90      0.89      0.90        66\n",
      "\n"
     ]
    }
   ],
   "source": [
    "from sklearn.metrics import classification_report\n",
    "\n",
    "\n",
    "# report = classification_report(np.array(y_test), np.array(predictions).argmax(axis=-1))\n",
    "# print(report)\n",
    "report = classification_report(y_test, y_classes)\n",
    "print(report)"
   ]
  },
  {
   "cell_type": "code",
   "execution_count": 18,
   "id": "72b433c0",
   "metadata": {},
   "outputs": [
    {
     "name": "stdout",
     "output_type": "stream",
     "text": [
      "[[24  1  1]\n",
      " [ 0 18  2]\n",
      " [ 0  3 17]]\n"
     ]
    }
   ],
   "source": [
    "import sklearn.metrics\n",
    "\n",
    "y_true = y_test\n",
    "y_pred = y_classes\n",
    "\n",
    "r = sklearn.metrics.confusion_matrix(y_true, y_pred)\n",
    "print(r)"
   ]
  },
  {
   "cell_type": "code",
   "execution_count": 19,
   "id": "63324786",
   "metadata": {},
   "outputs": [
    {
     "data": {
      "image/png": "[encoded data removed]",
      "text/plain": [
       "<Figure size 432x432 with 1 Axes>"
      ]
     },
     "metadata": {
      "needs_background": "light"
     },
     "output_type": "display_data"
    }
   ],
   "source": [
    "from sklearn.metrics import classification_report\n",
    "from mlxtend.plotting import plot_confusion_matrix\n",
    "conf_matrix = sklearn.metrics.confusion_matrix(y_true=y_test, y_pred=y_pred)\n",
    " \n",
    "fig, ax = plot_confusion_matrix(conf_mat=conf_matrix, figsize=(6, 6), cmap=plt.cm.Greens)\n",
    "plt.xlabel('Predictions', fontsize=18)\n",
    "plt.ylabel('Actuals', fontsize=18)\n",
    "plt.title('Confusion Matrix', fontsize=18)\n",
    "plt.show()"
   ]
  }
 ],
 "metadata": {
  "kernelspec": {
   "display_name": "Python 3 (ipykernel)",
   "language": "python",
   "name": "python3"
  },
  "language_info": {
   "codemirror_mode": {
    "name": "ipython",
    "version": 3
   },
   "file_extension": ".py",
   "mimetype": "text/x-python",
   "name": "python",
   "nbconvert_exporter": "python",
   "pygments_lexer": "ipython3",
   "version": "3.9.7"
  }
 },
 "nbformat": 4,
 "nbformat_minor": 5
}
