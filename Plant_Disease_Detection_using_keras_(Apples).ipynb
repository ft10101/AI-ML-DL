{
  "cells": [
    {
      "cell_type": "markdown",
      "metadata": {
        "id": "view-in-github",
        "colab_type": "text"
      },
      "source": [
        "<a href=\"https://colab.research.google.com/github/ft10101/AI-ML/blob/main/Plant_Disease_Detection_using_keras_(Apples).ipynb\" target=\"_parent\"><img src=\"https://colab.research.google.com/assets/colab-badge.svg\" alt=\"Open In Colab\"/></a>"
      ]
    },
    {
      "cell_type": "markdown",
      "source": [
        "<h1>Peerzada Sameem Makhdoomi </h1>\n",
        "<h2>Central Universiy Of Kashmir</h2>\n",
        "<H2>Project 1</H2>\n",
        "This project aims to classify images of apple tree leaves into different categories based on the type of apple tree they belong to. The study utilizes several deep learning models, including Multi Layer Perceptron (MLP), Basic Convolutional Neural Network (CNN), VGG, and AlexNet to make predictions on the image data. The performance of each model was evaluated on a test dataset and the best model was selected based on its training loss and accuracy. The results of this project can be seen in the accompanying notebook, where the training loss and accuracy graphs are attached for visualization. The results of this project could have practical applications in the field of plant disease diagnosis and agronomy."
      ],
      "metadata": {
        "id": "CO8_sESyRLTD"
      }
    },
    {
      "cell_type": "code",
      "execution_count": 1,
      "metadata": {
        "colab": {
          "base_uri": "https://localhost:8080/"
        },
        "id": "9PRdk3vB4ES-",
        "outputId": "43780132-4cc6-41db-c7b5-7fc17276d9ec"
      },
      "outputs": [
        {
          "output_type": "stream",
          "name": "stdout",
          "text": [
            "Looking in indexes: https://pypi.org/simple, https://us-python.pkg.dev/colab-wheels/public/simple/\n",
            "Collecting opendatasets\n",
            "  Downloading opendatasets-0.1.22-py3-none-any.whl (15 kB)\n",
            "Requirement already satisfied: click in /usr/local/lib/python3.8/dist-packages (from opendatasets) (7.1.2)\n",
            "Requirement already satisfied: tqdm in /usr/local/lib/python3.8/dist-packages (from opendatasets) (4.64.1)\n",
            "Requirement already satisfied: kaggle in /usr/local/lib/python3.8/dist-packages (from opendatasets) (1.5.12)\n",
            "Requirement already satisfied: certifi in /usr/local/lib/python3.8/dist-packages (from kaggle->opendatasets) (2022.12.7)\n",
            "Requirement already satisfied: six>=1.10 in /usr/local/lib/python3.8/dist-packages (from kaggle->opendatasets) (1.15.0)\n",
            "Requirement already satisfied: urllib3 in /usr/local/lib/python3.8/dist-packages (from kaggle->opendatasets) (1.24.3)\n",
            "Requirement already satisfied: python-dateutil in /usr/local/lib/python3.8/dist-packages (from kaggle->opendatasets) (2.8.2)\n",
            "Requirement already satisfied: python-slugify in /usr/local/lib/python3.8/dist-packages (from kaggle->opendatasets) (8.0.0)\n",
            "Requirement already satisfied: requests in /usr/local/lib/python3.8/dist-packages (from kaggle->opendatasets) (2.25.1)\n",
            "Requirement already satisfied: text-unidecode>=1.3 in /usr/local/lib/python3.8/dist-packages (from python-slugify->kaggle->opendatasets) (1.3)\n",
            "Requirement already satisfied: chardet<5,>=3.0.2 in /usr/local/lib/python3.8/dist-packages (from requests->kaggle->opendatasets) (4.0.0)\n",
            "Requirement already satisfied: idna<3,>=2.5 in /usr/local/lib/python3.8/dist-packages (from requests->kaggle->opendatasets) (2.10)\n",
            "Installing collected packages: opendatasets\n",
            "Successfully installed opendatasets-0.1.22\n",
            "Looking in indexes: https://pypi.org/simple, https://us-python.pkg.dev/colab-wheels/public/simple/\n",
            "Requirement already satisfied: pandas in /usr/local/lib/python3.8/dist-packages (1.3.5)\n",
            "Requirement already satisfied: numpy>=1.17.3 in /usr/local/lib/python3.8/dist-packages (from pandas) (1.21.6)\n",
            "Requirement already satisfied: python-dateutil>=2.7.3 in /usr/local/lib/python3.8/dist-packages (from pandas) (2.8.2)\n",
            "Requirement already satisfied: pytz>=2017.3 in /usr/local/lib/python3.8/dist-packages (from pandas) (2022.7.1)\n",
            "Requirement already satisfied: six>=1.5 in /usr/local/lib/python3.8/dist-packages (from python-dateutil>=2.7.3->pandas) (1.15.0)\n"
          ]
        }
      ],
      "source": [
        "!pip install opendatasets\n",
        "!pip install pandas"
      ]
    },
    {
      "cell_type": "code",
      "execution_count": 2,
      "metadata": {
        "colab": {
          "base_uri": "https://localhost:8080/"
        },
        "id": "tH0lW23H3_aY",
        "outputId": "8cfa1f94-a1e1-4a52-b841-411b5b6e1afe"
      },
      "outputs": [
        {
          "output_type": "stream",
          "name": "stdout",
          "text": [
            "Downloading apple-disease.zip to ./apple-disease\n"
          ]
        },
        {
          "output_type": "stream",
          "name": "stderr",
          "text": [
            "100%|██████████| 90.1M/90.1M [00:01<00:00, 61.8MB/s]\n"
          ]
        },
        {
          "output_type": "stream",
          "name": "stdout",
          "text": [
            "\n"
          ]
        }
      ],
      "source": [
        "import opendatasets as od\n",
        "import pandas\n",
        "od.download(\"https://www.kaggle.com/datasets/sohaibalam67/apple-disease\")"
      ]
    },
    {
      "cell_type": "code",
      "execution_count": 3,
      "metadata": {
        "colab": {
          "base_uri": "https://localhost:8080/"
        },
        "id": "EvG7Ej2-4cxe",
        "outputId": "737c290b-b0ad-4df5-9443-fb735592fc96"
      },
      "outputs": [
        {
          "output_type": "stream",
          "name": "stdout",
          "text": [
            "apple-disease  kaggle.json  sample_data\n"
          ]
        }
      ],
      "source": [
        "!ls"
      ]
    },
    {
      "cell_type": "code",
      "execution_count": 4,
      "metadata": {
        "id": "BFEa5LheZU72"
      },
      "outputs": [],
      "source": [
        "import pandas as pd\n",
        "import numpy as np\n",
        "import os\n",
        "import tensorflow as tf\n",
        "import cv2\n",
        "from PIL import Image\n",
        "from tensorflow import keras\n",
        "from tensorflow.keras import layers\n",
        "from tensorflow.keras.models import Sequential, Model\n",
        "from  matplotlib import pyplot as plt\n",
        "import matplotlib.image as mpimg\n",
        "%matplotlib inline"
      ]
    },
    {
      "cell_type": "code",
      "execution_count": 5,
      "metadata": {
        "id": "Mpg_vZvWmdG1"
      },
      "outputs": [],
      "source": [
        "data_dir1 = '/content/apple-disease/Apple/Apple___Apple_scab'\n",
        "\n",
        "images1 = [img1 for img1 in os.listdir(data_dir1) if img1.endswith('.JPG')]\n",
        "\n",
        "images_data1 = []\n",
        "for image1 in images1:\n",
        "    img1 = Image.open(os.path.join(data_dir1, image1))\n",
        "    img1 = img1.resize((150, 150))\n",
        "    img_arr1 = np.array(img1, dtype='float32') / 255.\n",
        "    images_data1.append(img_arr1)\n",
        "\n",
        "images_data1 = np.array(images_data1)"
      ]
    },
    {
      "cell_type": "code",
      "execution_count": 6,
      "metadata": {
        "colab": {
          "base_uri": "https://localhost:8080/"
        },
        "id": "okbZmWxUveZI",
        "outputId": "c653742a-a94f-4636-bbed-c300c8c16563"
      },
      "outputs": [
        {
          "output_type": "stream",
          "name": "stdout",
          "text": [
            "630\n"
          ]
        }
      ],
      "source": [
        "print(len(images_data1))"
      ]
    },
    {
      "cell_type": "code",
      "execution_count": 7,
      "metadata": {
        "id": "QM2ZHzeWmVJm"
      },
      "outputs": [],
      "source": [
        "data_dir2 = '/content/apple-disease/Apple/Apple___Black_rot'\n",
        "\n",
        "images2 = [img2 for img2 in os.listdir(data_dir2) if img2.endswith('.JPG')]\n",
        "\n",
        "images_data2 = []\n",
        "for image2 in images2:\n",
        "    img2 = Image.open(os.path.join(data_dir2, image2))\n",
        "    img2 = img2.resize((150, 150))\n",
        "    img_arr2 = np.array(img2, dtype='float32') / 255.\n",
        "    images_data2.append(img_arr2)\n",
        "\n",
        "images_data2 = np.array(images_data2)"
      ]
    },
    {
      "cell_type": "code",
      "execution_count": 8,
      "metadata": {
        "colab": {
          "base_uri": "https://localhost:8080/"
        },
        "id": "FpB-DUaInYcR",
        "outputId": "ab92c2ee-136d-4e3f-b12d-fc8b54020f61"
      },
      "outputs": [
        {
          "output_type": "stream",
          "name": "stdout",
          "text": [
            "621\n"
          ]
        }
      ],
      "source": [
        "print(len(images_data2))"
      ]
    },
    {
      "cell_type": "code",
      "execution_count": 9,
      "metadata": {
        "id": "CGUHY5LHmU33"
      },
      "outputs": [],
      "source": [
        "data_dir3 = '/content/apple-disease/Apple/Apple___Cedar_apple_rust'\n",
        "\n",
        "images3 = [img3 for img3 in os.listdir(data_dir3) if img3.endswith('.JPG')]\n",
        "\n",
        "images_data3 = []\n",
        "for image3 in images3:\n",
        "    img3 = Image.open(os.path.join(data_dir3, image3))\n",
        "    img3 = img3.resize((150, 150))\n",
        "    img_arr3 = np.array(img3, dtype='float32') / 255.\n",
        "    images_data3.append(img_arr3)\n",
        "\n",
        "images_data3 = np.array(images_data3)"
      ]
    },
    {
      "cell_type": "code",
      "execution_count": 10,
      "metadata": {
        "colab": {
          "base_uri": "https://localhost:8080/"
        },
        "id": "Gce9fuiLn9dh",
        "outputId": "fa50e537-d559-41b2-d170-47ac195e0c80"
      },
      "outputs": [
        {
          "output_type": "stream",
          "name": "stdout",
          "text": [
            "275\n"
          ]
        }
      ],
      "source": [
        "print(len(images_data3))"
      ]
    },
    {
      "cell_type": "code",
      "execution_count": 11,
      "metadata": {
        "id": "zdywk4TKnKFS"
      },
      "outputs": [],
      "source": [
        "data_dir4 = '/content/apple-disease/Apple/Apple___healthy'\n",
        "\n",
        "images4 = [img4 for img4 in os.listdir(data_dir4) if img4.endswith('.JPG')]\n",
        "\n",
        "images_data4 = []\n",
        "for image4 in images4:\n",
        "    img4 = Image.open(os.path.join(data_dir4, image4))\n",
        "    img4 = img4.resize((150, 150))\n",
        "    img_arr4 = np.array(img4, dtype='float32') / 255.\n",
        "    images_data4.append(img_arr4)\n",
        "\n",
        "images_data4 = np.array(images_data4)"
      ]
    },
    {
      "cell_type": "code",
      "execution_count": 12,
      "metadata": {
        "colab": {
          "base_uri": "https://localhost:8080/"
        },
        "id": "4TY92YxEwMgo",
        "outputId": "e7fc1344-427c-4c49-c51b-794436cc4237"
      },
      "outputs": [
        {
          "output_type": "stream",
          "name": "stdout",
          "text": [
            "1645\n"
          ]
        }
      ],
      "source": [
        "print(len(images_data4))"
      ]
    },
    {
      "cell_type": "code",
      "execution_count": 13,
      "metadata": {
        "colab": {
          "base_uri": "https://localhost:8080/"
        },
        "id": "FdFrEGpDoCgJ",
        "outputId": "007b1975-eb67-45c6-81d1-e2ce6c8cbf11"
      },
      "outputs": [
        {
          "output_type": "stream",
          "name": "stdout",
          "text": [
            "Apple scab: 630\n",
            "apple black rot: 621\n",
            "Apple Cedar rust: 275\n",
            "Healthy apples: 1645\n"
          ]
        }
      ],
      "source": [
        "print('Apple scab:',len(images1))\n",
        "print('apple black rot:',len(images2))\n",
        "print('Apple Cedar rust:',len(images3))\n",
        "print('Healthy apples:',len(images4))"
      ]
    },
    {
      "cell_type": "code",
      "execution_count": 14,
      "metadata": {
        "id": "WLG6wfulVSlX"
      },
      "outputs": [],
      "source": [
        "# Split the data into training and testing sets\n",
        "train_images = np.concatenate((images_data1[:int(len(images_data1)*0.8)], images_data2[:int(len(images_data2)*0.8)], images_data3[:int(len(images_data3)*0.8)], images_data4[:int(len(images_data4)*0.8)]))\n",
        "train_labels = np.concatenate((np.zeros(int(len(images_data1)*0.8)), np.ones(int(len(images_data2)*0.8)), 2*np.ones(int(len(images_data3)*0.8)), 3*np.ones(int(len(images_data4)*0.8))))\n",
        "test_images = np.concatenate((images_data1[int(len(images_data1)*0.8):], images_data2[int(len(images_data2)*0.8):], images_data3[int(len(images_data3)*0.8):], images_data4[int(len(images_data4)*0.8):]))\n",
        "test_labels = np.concatenate((np.zeros(len(images_data1)-int(len(images_data1)*0.8)), np.ones(len(images_data2)-int(len(images_data2)*0.8)), 2*np.ones(len(images_data3)-int(len(images_data3)*0.8)), 3*np.ones(len(images_data4)-int(len(images_data4)*0.8))))"
      ]
    },
    {
      "cell_type": "markdown",
      "metadata": {
        "id": "5y3bEXegT2tc"
      },
      "source": [
        "  images_data1 is assigned a label of 0<br>\n",
        "  images_data2 is assigned a label of 1<br>\n",
        "  images_data3 is assigned a label of 2<br>\n",
        "  images_data4 is assigned a label of 3<br>"
      ]
    },
    {
      "cell_type": "code",
      "execution_count": 15,
      "metadata": {
        "id": "LfVpwPmiP4Xb"
      },
      "outputs": [],
      "source": [
        "# Convert labels into one-hot encoded vectors\n",
        "train_labels = tf.keras.utils.to_categorical(train_labels, 4)\n",
        "test_labels = tf.keras.utils.to_categorical(test_labels, 4)"
      ]
    },
    {
      "cell_type": "markdown",
      "source": [
        "<H1>Multilayer Perceptron<H1/>"
      ],
      "metadata": {
        "id": "CdGvGZsMOJWM"
      }
    },
    {
      "cell_type": "code",
      "execution_count": 35,
      "metadata": {
        "id": "L1WPAJRwlPSI"
      },
      "outputs": [],
      "source": [
        "# Define the model architecture\n",
        "model = keras.Sequential()\n",
        "model.add(keras.layers.Flatten(input_shape=(150, 150, 3)))\n",
        "model.add(keras.layers.Dense(1289, activation='relu'))\n",
        "model.add(keras.layers.Dropout(0.5)) # adding dropout layer with a rate of 0.5\n",
        "model.add(keras.layers.Dense(624, activation='relu'))\n",
        "model.add(keras.layers.Dropout(0.5)) # adding dropout layer with a rate of 0.5\n",
        "model.add(keras.layers.Dense(4, activation='softmax'))"
      ]
    },
    {
      "cell_type": "code",
      "execution_count": 36,
      "metadata": {
        "id": "LQUy-KwdSkpz"
      },
      "outputs": [],
      "source": [
        "model.compile(optimizer='sgd',\n",
        "              loss='mean_squared_error',\n",
        "              metrics=['accuracy'])"
      ]
    },
    {
      "cell_type": "code",
      "execution_count": 37,
      "metadata": {
        "colab": {
          "base_uri": "https://localhost:8080/"
        },
        "id": "harUY767TLUv",
        "outputId": "27e5c945-5c80-44e2-e995-afde5605acdd"
      },
      "outputs": [
        {
          "output_type": "stream",
          "name": "stdout",
          "text": [
            "Epoch 1/50\n",
            "80/80 [==============================] - 2s 19ms/step - loss: 0.1737 - accuracy: 0.4854\n",
            "Epoch 2/50\n",
            "80/80 [==============================] - 1s 18ms/step - loss: 0.1457 - accuracy: 0.5619\n",
            "Epoch 3/50\n",
            "80/80 [==============================] - 1s 15ms/step - loss: 0.1328 - accuracy: 0.6009\n",
            "Epoch 4/50\n",
            "80/80 [==============================] - 1s 15ms/step - loss: 0.1259 - accuracy: 0.6301\n",
            "Epoch 5/50\n",
            "80/80 [==============================] - 1s 15ms/step - loss: 0.1153 - accuracy: 0.6522\n",
            "Epoch 6/50\n",
            "80/80 [==============================] - 1s 15ms/step - loss: 0.1118 - accuracy: 0.6723\n",
            "Epoch 7/50\n",
            "80/80 [==============================] - 1s 15ms/step - loss: 0.1064 - accuracy: 0.6857\n",
            "Epoch 8/50\n",
            "80/80 [==============================] - 1s 15ms/step - loss: 0.1011 - accuracy: 0.7082\n",
            "Epoch 9/50\n",
            "80/80 [==============================] - 1s 15ms/step - loss: 0.0988 - accuracy: 0.7192\n",
            "Epoch 10/50\n",
            "80/80 [==============================] - 1s 15ms/step - loss: 0.0933 - accuracy: 0.7326\n",
            "Epoch 11/50\n",
            "80/80 [==============================] - 1s 15ms/step - loss: 0.0914 - accuracy: 0.7354\n",
            "Epoch 12/50\n",
            "80/80 [==============================] - 1s 15ms/step - loss: 0.0880 - accuracy: 0.7539\n",
            "Epoch 13/50\n",
            "80/80 [==============================] - 1s 15ms/step - loss: 0.0851 - accuracy: 0.7642\n",
            "Epoch 14/50\n",
            "80/80 [==============================] - 1s 15ms/step - loss: 0.0795 - accuracy: 0.7819\n",
            "Epoch 15/50\n",
            "80/80 [==============================] - 1s 15ms/step - loss: 0.0821 - accuracy: 0.7717\n",
            "Epoch 16/50\n",
            "80/80 [==============================] - 1s 15ms/step - loss: 0.0762 - accuracy: 0.7823\n",
            "Epoch 17/50\n",
            "80/80 [==============================] - 1s 15ms/step - loss: 0.0740 - accuracy: 0.7914\n",
            "Epoch 18/50\n",
            "80/80 [==============================] - 1s 15ms/step - loss: 0.0728 - accuracy: 0.8040\n",
            "Epoch 19/50\n",
            "80/80 [==============================] - 1s 15ms/step - loss: 0.0714 - accuracy: 0.7989\n",
            "Epoch 20/50\n",
            "80/80 [==============================] - 1s 15ms/step - loss: 0.0682 - accuracy: 0.8147\n",
            "Epoch 21/50\n",
            "80/80 [==============================] - 1s 15ms/step - loss: 0.0669 - accuracy: 0.8162\n",
            "Epoch 22/50\n",
            "80/80 [==============================] - 1s 15ms/step - loss: 0.0641 - accuracy: 0.8265\n",
            "Epoch 23/50\n",
            "80/80 [==============================] - 1s 15ms/step - loss: 0.0633 - accuracy: 0.8300\n",
            "Epoch 24/50\n",
            "80/80 [==============================] - 1s 15ms/step - loss: 0.0636 - accuracy: 0.8304\n",
            "Epoch 25/50\n",
            "80/80 [==============================] - 1s 15ms/step - loss: 0.0610 - accuracy: 0.8344\n",
            "Epoch 26/50\n",
            "80/80 [==============================] - 1s 15ms/step - loss: 0.0577 - accuracy: 0.8438\n",
            "Epoch 27/50\n",
            "80/80 [==============================] - 1s 15ms/step - loss: 0.0589 - accuracy: 0.8403\n",
            "Epoch 28/50\n",
            "80/80 [==============================] - 1s 15ms/step - loss: 0.0553 - accuracy: 0.8529\n",
            "Epoch 29/50\n",
            "80/80 [==============================] - 1s 15ms/step - loss: 0.0554 - accuracy: 0.8565\n",
            "Epoch 30/50\n",
            "80/80 [==============================] - 1s 15ms/step - loss: 0.0554 - accuracy: 0.8450\n",
            "Epoch 31/50\n",
            "80/80 [==============================] - 1s 15ms/step - loss: 0.0548 - accuracy: 0.8588\n",
            "Epoch 32/50\n",
            "80/80 [==============================] - 1s 15ms/step - loss: 0.0513 - accuracy: 0.8663\n",
            "Epoch 33/50\n",
            "80/80 [==============================] - 1s 15ms/step - loss: 0.0521 - accuracy: 0.8596\n",
            "Epoch 34/50\n",
            "80/80 [==============================] - 1s 15ms/step - loss: 0.0499 - accuracy: 0.8750\n",
            "Epoch 35/50\n",
            "80/80 [==============================] - 1s 15ms/step - loss: 0.0508 - accuracy: 0.8655\n",
            "Epoch 36/50\n",
            "80/80 [==============================] - 1s 15ms/step - loss: 0.0464 - accuracy: 0.8778\n",
            "Epoch 37/50\n",
            "80/80 [==============================] - 1s 15ms/step - loss: 0.0485 - accuracy: 0.8726\n",
            "Epoch 38/50\n",
            "80/80 [==============================] - 1s 15ms/step - loss: 0.0474 - accuracy: 0.8766\n",
            "Epoch 39/50\n",
            "80/80 [==============================] - 1s 15ms/step - loss: 0.0490 - accuracy: 0.8734\n",
            "Epoch 40/50\n",
            "80/80 [==============================] - 1s 15ms/step - loss: 0.0471 - accuracy: 0.8742\n",
            "Epoch 41/50\n",
            "80/80 [==============================] - 1s 15ms/step - loss: 0.0479 - accuracy: 0.8746\n",
            "Epoch 42/50\n",
            "80/80 [==============================] - 1s 15ms/step - loss: 0.0462 - accuracy: 0.8837\n",
            "Epoch 43/50\n",
            "80/80 [==============================] - 1s 15ms/step - loss: 0.0443 - accuracy: 0.8856\n",
            "Epoch 44/50\n",
            "80/80 [==============================] - 1s 15ms/step - loss: 0.0438 - accuracy: 0.8856\n",
            "Epoch 45/50\n",
            "80/80 [==============================] - 1s 15ms/step - loss: 0.0438 - accuracy: 0.8821\n",
            "Epoch 46/50\n",
            "80/80 [==============================] - 1s 15ms/step - loss: 0.0421 - accuracy: 0.8947\n",
            "Epoch 47/50\n",
            "80/80 [==============================] - 1s 16ms/step - loss: 0.0436 - accuracy: 0.8892\n",
            "Epoch 48/50\n",
            "80/80 [==============================] - 1s 17ms/step - loss: 0.0416 - accuracy: 0.8927\n",
            "Epoch 49/50\n",
            "80/80 [==============================] - 1s 16ms/step - loss: 0.0421 - accuracy: 0.8916\n",
            "Epoch 50/50\n",
            "80/80 [==============================] - 1s 15ms/step - loss: 0.0402 - accuracy: 0.8971\n"
          ]
        }
      ],
      "source": [
        "#model.fit(train_images, train_labels, batch_size=32, epochs=50)\n",
        "history = model.fit(train_images, train_labels, batch_size=32, epochs=50)"
      ]
    },
    {
      "cell_type": "code",
      "execution_count": 38,
      "metadata": {
        "id": "e0V4zBPHe0Zw",
        "outputId": "aa2bbe86-b865-4168-e25d-41c52631af18",
        "colab": {
          "base_uri": "https://localhost:8080/"
        }
      },
      "outputs": [
        {
          "output_type": "stream",
          "name": "stdout",
          "text": [
            "20/20 [==============================] - 0s 8ms/step - loss: 0.0331 - accuracy: 0.9181\n"
          ]
        }
      ],
      "source": [
        "test_los, test_acc = model.evaluate(test_images, test_labels)"
      ]
    },
    {
      "cell_type": "code",
      "execution_count": 39,
      "metadata": {
        "id": "d8DgBpoZe0V6",
        "outputId": "3b67e33d-fdc7-4969-f1ac-3cc1d7552b24",
        "colab": {
          "base_uri": "https://localhost:8080/"
        }
      },
      "outputs": [
        {
          "output_type": "stream",
          "name": "stdout",
          "text": [
            "Loss: 3.305797278881073\n",
            "Accuracy: 91.81102514266968\n"
          ]
        }
      ],
      "source": [
        "print('Loss:',test_los*100)\n",
        "print('Accuracy:',test_acc*100)"
      ]
    },
    {
      "cell_type": "code",
      "execution_count": 40,
      "metadata": {
        "id": "9edlncBTjoPk",
        "outputId": "cd1a75d8-ce0b-4776-b155-b37e4ddf6358",
        "colab": {
          "base_uri": "https://localhost:8080/"
        }
      },
      "outputs": [
        {
          "output_type": "stream",
          "name": "stdout",
          "text": [
            "20/20 [==============================] - 0s 6ms/step\n",
            "              precision    recall  f1-score   support\n",
            "\n",
            "           0       0.87      0.84      0.85       126\n",
            "           1       0.92      0.90      0.91       125\n",
            "           2       0.80      0.95      0.87        55\n",
            "           3       0.96      0.95      0.95       329\n",
            "\n",
            "    accuracy                           0.92       635\n",
            "   macro avg       0.89      0.91      0.90       635\n",
            "weighted avg       0.92      0.92      0.92       635\n",
            "\n"
          ]
        }
      ],
      "source": [
        "pred_probs = model.predict(test_images)\n",
        "pred_labels = np.argmax(pred_probs, axis=1)\n",
        "\n",
        "from sklearn.metrics import classification_report\n",
        "\n",
        "target_labels = np.argmax(test_labels, axis=1)\n",
        "print(classification_report(target_labels, pred_labels))"
      ]
    },
    {
      "cell_type": "code",
      "source": [
        "import matplotlib.pyplot as plt\n",
        "\n",
        "plt.plot(history.history['loss'])\n",
        "plt.title('Training Loss after Multilayer Perceptron')\n",
        "plt.xlabel('Epochs')\n",
        "plt.ylabel('Training Loss')\n",
        "plt.show()\n",
        "\n",
        "plt.plot(history.history['accuracy'])\n",
        "plt.title('Training Accuracy after Multilayer Perceptron')\n",
        "plt.xlabel('Epochs')\n",
        "plt.ylabel('Training Accuracy')\n",
        "plt.show()"
      ],
      "metadata": {
        "id": "fHMYrR1zdPu2",
        "outputId": "d360a935-b3b8-4704-fb6e-14156b0230e7",
        "colab": {
          "base_uri": "https://localhost:8080/",
          "height": 573
        }
      },
      "execution_count": 41,
      "outputs": [
        {
          "output_type": "display_data",
          "data": {
            "text/plain": [
              "<Figure size 432x288 with 1 Axes>"
            ],
            "image/png": "[encoded data removed]"
          },
          "metadata": {
            "needs_background": "light"
          }
        },
        {
          "output_type": "display_data",
          "data": {
            "text/plain": [
              "<Figure size 432x288 with 1 Axes>"
            ],
            "image/png": "[encoded data removed]"
          },
          "metadata": {
            "needs_background": "light"
          }
        }
      ]
    },
    {
      "cell_type": "markdown",
      "source": [
        "<H1>Basic CNN architecture<H1/>"
      ],
      "metadata": {
        "id": "dl3BOGI1Oqty"
      }
    },
    {
      "cell_type": "code",
      "execution_count": 43,
      "metadata": {
        "id": "Xy_laPZejoI7"
      },
      "outputs": [],
      "source": [
        "import keras\n",
        "from tensorflow.keras.layers import Dropout\n",
        "from keras.layers import Conv2D, MaxPooling2D, Flatten, Dense\n",
        "\n",
        "# Define the model architecture\n",
        "model1 = keras.Sequential()\n",
        "model1.add(Conv2D(32, (3, 3), activation='relu', input_shape=(150, 150, 3)))\n",
        "model1.add(MaxPooling2D((2, 2)))\n",
        "model1.add(Conv2D(64, (3, 3), activation='relu'))\n",
        "model1.add(MaxPooling2D((2, 2)))\n",
        "model1.add(Conv2D(128, (3, 3), activation='relu'))\n",
        "model1.add(MaxPooling2D((2, 2)))\n",
        "model1.add(Flatten())\n",
        "model1.add(Dense(512, activation='relu'))\n",
        "model1.add(Dropout(0.5)) # Add dropout layer\n",
        "model1.add(Dense(512, activation='relu'))\n",
        "model1.add(Dropout(0.5)) # Add dropout layer\n",
        "model1.add(Dense(256, activation='relu'))\n",
        "model1.add(Dropout(0.5)) # Add dropout layer\n",
        "model1.add(Dense(4, activation='softmax'))\n",
        "\n",
        "# Compile the model\n",
        "model1.compile(optimizer='sgd',\n",
        "              loss='mean_squared_error',\n",
        "              metrics=['accuracy'])"
      ]
    },
    {
      "cell_type": "code",
      "execution_count": 44,
      "metadata": {
        "id": "cNFY49xdVBX_",
        "colab": {
          "base_uri": "https://localhost:8080/"
        },
        "outputId": "bd521122-7756-40e6-9d3a-bdc0f9052f3e"
      },
      "outputs": [
        {
          "output_type": "stream",
          "name": "stdout",
          "text": [
            "Epoch 1/50\n",
            "80/80 [==============================] - 3s 28ms/step - loss: 0.1846 - accuracy: 0.3360\n",
            "Epoch 2/50\n",
            "80/80 [==============================] - 2s 27ms/step - loss: 0.1744 - accuracy: 0.4933\n",
            "Epoch 3/50\n",
            "80/80 [==============================] - 2s 27ms/step - loss: 0.1666 - accuracy: 0.5126\n",
            "Epoch 4/50\n",
            "80/80 [==============================] - 2s 27ms/step - loss: 0.1651 - accuracy: 0.5110\n",
            "Epoch 5/50\n",
            "80/80 [==============================] - 2s 27ms/step - loss: 0.1650 - accuracy: 0.5138\n",
            "Epoch 6/50\n",
            "80/80 [==============================] - 2s 28ms/step - loss: 0.1625 - accuracy: 0.5189\n",
            "Epoch 7/50\n",
            "80/80 [==============================] - 2s 28ms/step - loss: 0.1619 - accuracy: 0.5162\n",
            "Epoch 8/50\n",
            "80/80 [==============================] - 2s 28ms/step - loss: 0.1614 - accuracy: 0.5174\n",
            "Epoch 9/50\n",
            "80/80 [==============================] - 2s 28ms/step - loss: 0.1595 - accuracy: 0.5177\n",
            "Epoch 10/50\n",
            "80/80 [==============================] - 2s 28ms/step - loss: 0.1577 - accuracy: 0.5209\n",
            "Epoch 11/50\n",
            "80/80 [==============================] - 2s 28ms/step - loss: 0.1556 - accuracy: 0.5217\n",
            "Epoch 12/50\n",
            "80/80 [==============================] - 2s 28ms/step - loss: 0.1518 - accuracy: 0.5201\n",
            "Epoch 13/50\n",
            "80/80 [==============================] - 2s 28ms/step - loss: 0.1485 - accuracy: 0.5244\n",
            "Epoch 14/50\n",
            "80/80 [==============================] - 2s 28ms/step - loss: 0.1439 - accuracy: 0.5323\n",
            "Epoch 15/50\n",
            "80/80 [==============================] - 2s 28ms/step - loss: 0.1394 - accuracy: 0.5450\n",
            "Epoch 16/50\n",
            "80/80 [==============================] - 2s 28ms/step - loss: 0.1338 - accuracy: 0.5611\n",
            "Epoch 17/50\n",
            "80/80 [==============================] - 2s 28ms/step - loss: 0.1299 - accuracy: 0.5879\n",
            "Epoch 18/50\n",
            "80/80 [==============================] - 2s 28ms/step - loss: 0.1255 - accuracy: 0.6100\n",
            "Epoch 19/50\n",
            "80/80 [==============================] - 2s 28ms/step - loss: 0.1209 - accuracy: 0.6234\n",
            "Epoch 20/50\n",
            "80/80 [==============================] - 2s 28ms/step - loss: 0.1189 - accuracy: 0.6372\n",
            "Epoch 21/50\n",
            "80/80 [==============================] - 2s 27ms/step - loss: 0.1151 - accuracy: 0.6562\n",
            "Epoch 22/50\n",
            "80/80 [==============================] - 2s 28ms/step - loss: 0.1119 - accuracy: 0.6636\n",
            "Epoch 23/50\n",
            "80/80 [==============================] - 2s 27ms/step - loss: 0.1094 - accuracy: 0.6782\n",
            "Epoch 24/50\n",
            "80/80 [==============================] - 2s 27ms/step - loss: 0.1069 - accuracy: 0.6786\n",
            "Epoch 25/50\n",
            "80/80 [==============================] - 2s 28ms/step - loss: 0.1030 - accuracy: 0.6999\n",
            "Epoch 26/50\n",
            "80/80 [==============================] - 2s 28ms/step - loss: 0.1003 - accuracy: 0.7149\n",
            "Epoch 27/50\n",
            "80/80 [==============================] - 2s 28ms/step - loss: 0.0985 - accuracy: 0.7188\n",
            "Epoch 28/50\n",
            "80/80 [==============================] - 2s 28ms/step - loss: 0.0948 - accuracy: 0.7390\n",
            "Epoch 29/50\n",
            "80/80 [==============================] - 2s 28ms/step - loss: 0.0924 - accuracy: 0.7449\n",
            "Epoch 30/50\n",
            "80/80 [==============================] - 2s 28ms/step - loss: 0.0913 - accuracy: 0.7362\n",
            "Epoch 31/50\n",
            "80/80 [==============================] - 2s 28ms/step - loss: 0.0882 - accuracy: 0.7555\n",
            "Epoch 32/50\n",
            "80/80 [==============================] - 2s 27ms/step - loss: 0.0860 - accuracy: 0.7658\n",
            "Epoch 33/50\n",
            "80/80 [==============================] - 2s 28ms/step - loss: 0.0832 - accuracy: 0.7634\n",
            "Epoch 34/50\n",
            "80/80 [==============================] - 2s 28ms/step - loss: 0.0803 - accuracy: 0.7737\n",
            "Epoch 35/50\n",
            "80/80 [==============================] - 2s 27ms/step - loss: 0.0792 - accuracy: 0.7756\n",
            "Epoch 36/50\n",
            "80/80 [==============================] - 2s 27ms/step - loss: 0.0769 - accuracy: 0.7886\n",
            "Epoch 37/50\n",
            "80/80 [==============================] - 2s 27ms/step - loss: 0.0742 - accuracy: 0.7969\n",
            "Epoch 38/50\n",
            "80/80 [==============================] - 2s 28ms/step - loss: 0.0720 - accuracy: 0.7989\n",
            "Epoch 39/50\n",
            "80/80 [==============================] - 2s 28ms/step - loss: 0.0715 - accuracy: 0.8064\n",
            "Epoch 40/50\n",
            "80/80 [==============================] - 2s 28ms/step - loss: 0.0694 - accuracy: 0.8155\n",
            "Epoch 41/50\n",
            "80/80 [==============================] - 2s 28ms/step - loss: 0.0685 - accuracy: 0.8068\n",
            "Epoch 42/50\n",
            "80/80 [==============================] - 2s 28ms/step - loss: 0.0660 - accuracy: 0.8237\n",
            "Epoch 43/50\n",
            "80/80 [==============================] - 2s 30ms/step - loss: 0.0645 - accuracy: 0.8308\n",
            "Epoch 44/50\n",
            "80/80 [==============================] - 2s 28ms/step - loss: 0.0642 - accuracy: 0.8253\n",
            "Epoch 45/50\n",
            "80/80 [==============================] - 2s 28ms/step - loss: 0.0632 - accuracy: 0.8297\n",
            "Epoch 46/50\n",
            "80/80 [==============================] - 2s 27ms/step - loss: 0.0618 - accuracy: 0.8419\n",
            "Epoch 47/50\n",
            "80/80 [==============================] - 2s 28ms/step - loss: 0.0598 - accuracy: 0.8395\n",
            "Epoch 48/50\n",
            "80/80 [==============================] - 2s 28ms/step - loss: 0.0605 - accuracy: 0.8435\n",
            "Epoch 49/50\n",
            "80/80 [==============================] - 2s 28ms/step - loss: 0.0587 - accuracy: 0.8474\n",
            "Epoch 50/50\n",
            "80/80 [==============================] - 2s 28ms/step - loss: 0.0580 - accuracy: 0.8525\n"
          ]
        }
      ],
      "source": [
        "history1 = model1.fit(train_images, train_labels, batch_size=32, epochs=50)"
      ]
    },
    {
      "cell_type": "code",
      "execution_count": 45,
      "metadata": {
        "id": "haVAxcJye0SG",
        "colab": {
          "base_uri": "https://localhost:8080/"
        },
        "outputId": "1eaed185-b26f-4442-aad9-4c94c072b703"
      },
      "outputs": [
        {
          "output_type": "stream",
          "name": "stdout",
          "text": [
            "20/20 [==============================] - 1s 29ms/step - loss: 0.0434 - accuracy: 0.8976\n"
          ]
        }
      ],
      "source": [
        "test_loss, test_accuracy = model1.evaluate(test_images, test_labels)"
      ]
    },
    {
      "cell_type": "code",
      "source": [
        "print('Test Loss after CNN:',test_loss*100)\n",
        "print('Test Accuracy after CNN:',test_accuracy*100)"
      ],
      "metadata": {
        "colab": {
          "base_uri": "https://localhost:8080/"
        },
        "id": "DPASsEt8PzNa",
        "outputId": "98c08512-44a5-4d4b-df95-13f58ab21324"
      },
      "execution_count": 46,
      "outputs": [
        {
          "output_type": "stream",
          "name": "stdout",
          "text": [
            "Test Loss after CNN: 4.339160397648811\n",
            "Test Accuracy after CNN: 89.76377844810486\n"
          ]
        }
      ]
    },
    {
      "cell_type": "code",
      "source": [
        "import matplotlib.pyplot as plt\n",
        "\n",
        "plt.plot(history1.history['loss'])\n",
        "plt.title('Training Loss after CNN')\n",
        "plt.xlabel('Epochs')\n",
        "plt.ylabel('Training Loss')\n",
        "plt.show()\n",
        "\n",
        "plt.plot(history1.history['accuracy'])\n",
        "plt.title('Training Accuracy after CNN')\n",
        "plt.xlabel('Epochs')\n",
        "plt.ylabel('Training Accuracy')\n",
        "plt.show()"
      ],
      "metadata": {
        "id": "6Kym_quIu-vg",
        "outputId": "e2328c08-462d-443e-d01c-24ca3da78827",
        "colab": {
          "base_uri": "https://localhost:8080/",
          "height": 573
        }
      },
      "execution_count": 49,
      "outputs": [
        {
          "output_type": "display_data",
          "data": {
            "text/plain": [
              "<Figure size 432x288 with 1 Axes>"
            ],
            "image/png": "[encoded data removed]"
          },
          "metadata": {
            "needs_background": "light"
          }
        },
        {
          "output_type": "display_data",
          "data": {
            "text/plain": [
              "<Figure size 432x288 with 1 Axes>"
            ],
            "image/png": "[encoded data removed]"
          },
          "metadata": {
            "needs_background": "light"
          }
        }
      ]
    },
    {
      "cell_type": "markdown",
      "source": [
        "<H1>AlexNet architecture<H1/>"
      ],
      "metadata": {
        "id": "NHTF6mGtUoNE"
      }
    },
    {
      "cell_type": "code",
      "source": [
        "from keras.layers import Input, Conv2D, MaxPooling2D, Dense, Flatten\n",
        "from keras.models import Model\n",
        "\n",
        "inputs = Input(shape=(150, 150, 3))\n",
        "\n",
        "# First convolutional layer with max pooling\n",
        "x = Conv2D(96, (11, 11), strides=(4, 4), activation='relu', padding='same')(inputs)\n",
        "x = MaxPooling2D((3, 3), strides=(2, 2))(x)\n",
        "\n",
        "# Second convolutional layer with max pooling\n",
        "x = Conv2D(256, (5, 5), activation='relu', padding='same')(x)\n",
        "x = MaxPooling2D((3, 3), strides=(2, 2))(x)\n",
        "\n",
        "# Third convolutional layer\n",
        "x = Conv2D(384, (3, 3), activation='relu', padding='same')(x)\n",
        "\n",
        "# Fourth convolutional layer\n",
        "x = Conv2D(384, (3, 3), activation='relu', padding='same')(x)\n",
        "\n",
        "# Fifth convolutional layer with max pooling\n",
        "x = Conv2D(256, (3, 3), activation='relu', padding='same')(x)\n",
        "x = MaxPooling2D((3, 3), strides=(2, 2))(x)\n",
        "\n",
        "# Flatten and pass through dense layer\n",
        "x = Flatten()(x)\n",
        "x = Dense(4096, activation='relu')(x)\n",
        "x = Dense(4096, activation='relu')(x)\n",
        "\n",
        "# Output layer\n",
        "outputs = Dense(4, activation='softmax')(x)\n",
        "\n",
        "# Create the model\n",
        "model2 = Model(inputs, outputs)"
      ],
      "metadata": {
        "id": "ZrYblPysP0cf"
      },
      "execution_count": 16,
      "outputs": []
    },
    {
      "cell_type": "code",
      "source": [
        "# Compile the model\n",
        "model2.compile(optimizer='sgd', loss='mean_squared_error', metrics=['accuracy'])"
      ],
      "metadata": {
        "id": "Rm36WgORWwAH"
      },
      "execution_count": 17,
      "outputs": []
    },
    {
      "cell_type": "code",
      "source": [
        "# Fit the model on the training data\n",
        "history2 = model2.fit(train_images, train_labels, epochs=10, batch_size=32, validation_data=(test_images, test_labels))"
      ],
      "metadata": {
        "colab": {
          "base_uri": "https://localhost:8080/"
        },
        "id": "Y3Nogt5eXyCe",
        "outputId": "425cd1bb-9e8a-4cdc-d8f8-3fd72062d6d7"
      },
      "execution_count": 24,
      "outputs": [
        {
          "output_type": "stream",
          "name": "stdout",
          "text": [
            "Epoch 1/10\n",
            "80/80 [==============================] - 2s 26ms/step - loss: 0.1545 - accuracy: 0.5189 - val_loss: 0.1521 - val_accuracy: 0.5181\n",
            "Epoch 2/10\n",
            "80/80 [==============================] - 2s 23ms/step - loss: 0.1529 - accuracy: 0.5189 - val_loss: 0.1502 - val_accuracy: 0.5181\n",
            "Epoch 3/10\n",
            "80/80 [==============================] - 2s 23ms/step - loss: 0.1506 - accuracy: 0.5193 - val_loss: 0.1507 - val_accuracy: 0.5181\n",
            "Epoch 4/10\n",
            "80/80 [==============================] - 2s 23ms/step - loss: 0.1477 - accuracy: 0.5221 - val_loss: 0.1432 - val_accuracy: 0.5181\n",
            "Epoch 5/10\n",
            "80/80 [==============================] - 2s 23ms/step - loss: 0.1438 - accuracy: 0.5564 - val_loss: 0.1388 - val_accuracy: 0.6157\n",
            "Epoch 6/10\n",
            "80/80 [==============================] - 2s 23ms/step - loss: 0.1386 - accuracy: 0.5820 - val_loss: 0.1324 - val_accuracy: 0.6236\n",
            "Epoch 7/10\n",
            "80/80 [==============================] - 2s 23ms/step - loss: 0.1342 - accuracy: 0.5927 - val_loss: 0.1252 - val_accuracy: 0.6346\n",
            "Epoch 8/10\n",
            "80/80 [==============================] - 2s 26ms/step - loss: 0.1288 - accuracy: 0.6144 - val_loss: 0.1775 - val_accuracy: 0.5181\n",
            "Epoch 9/10\n",
            "80/80 [==============================] - 2s 31ms/step - loss: 0.1227 - accuracy: 0.6337 - val_loss: 0.1157 - val_accuracy: 0.6173\n",
            "Epoch 10/10\n",
            "80/80 [==============================] - 2s 31ms/step - loss: 0.1191 - accuracy: 0.6400 - val_loss: 0.1108 - val_accuracy: 0.6709\n"
          ]
        }
      ]
    },
    {
      "cell_type": "code",
      "source": [
        "test_loss2, test_accuracy2 = model2.evaluate(test_images, test_labels)"
      ],
      "metadata": {
        "colab": {
          "base_uri": "https://localhost:8080/"
        },
        "id": "t_lf0Sy-fA4h",
        "outputId": "294af327-3b6e-4170-92e6-caea21ca7b31"
      },
      "execution_count": 25,
      "outputs": [
        {
          "output_type": "stream",
          "name": "stdout",
          "text": [
            "20/20 [==============================] - 0s 14ms/step - loss: 0.1108 - accuracy: 0.6709\n"
          ]
        }
      ]
    },
    {
      "cell_type": "code",
      "source": [
        "print('Test Loss after AlexNet:',test_loss2*100)\n",
        "print('Test Accuracy after AlexNet:',test_accuracy2*100)"
      ],
      "metadata": {
        "colab": {
          "base_uri": "https://localhost:8080/"
        },
        "id": "0SPFYQAafIL-",
        "outputId": "e2c41000-8d09-4e28-ca20-0129d162da74"
      },
      "execution_count": 26,
      "outputs": [
        {
          "output_type": "stream",
          "name": "stdout",
          "text": [
            "Test Loss after AlexNet: 11.082017421722412\n",
            "Test Accuracy after AlexNet: 67.08661317825317\n"
          ]
        }
      ]
    },
    {
      "cell_type": "code",
      "source": [
        "# Predict classes for test data\n",
        "predictions = model2.predict(test_images)\n",
        "y_pred = np.argmax(predictions, axis=1)\n",
        "\n",
        "from sklearn.metrics import classification_report\n",
        "# Generate classification report\n",
        "print(classification_report(np.argmax(test_labels, axis=1), y_pred))\n"
      ],
      "metadata": {
        "colab": {
          "base_uri": "https://localhost:8080/"
        },
        "id": "yd7iVf5IXrrD",
        "outputId": "2c8cf0c2-9048-4ead-c1b8-3da1fdd6480a"
      },
      "execution_count": 27,
      "outputs": [
        {
          "output_type": "stream",
          "name": "stdout",
          "text": [
            "20/20 [==============================] - 0s 10ms/step\n",
            "              precision    recall  f1-score   support\n",
            "\n",
            "           0       0.56      0.20      0.29       126\n",
            "           1       0.44      0.87      0.58       125\n",
            "           2       0.00      0.00      0.00        55\n",
            "           3       0.86      0.89      0.87       329\n",
            "\n",
            "    accuracy                           0.67       635\n",
            "   macro avg       0.46      0.49      0.44       635\n",
            "weighted avg       0.64      0.67      0.62       635\n",
            "\n"
          ]
        },
        {
          "output_type": "stream",
          "name": "stderr",
          "text": [
            "/usr/local/lib/python3.8/dist-packages/sklearn/metrics/_classification.py:1318: UndefinedMetricWarning: Precision and F-score are ill-defined and being set to 0.0 in labels with no predicted samples. Use `zero_division` parameter to control this behavior.\n",
            "  _warn_prf(average, modifier, msg_start, len(result))\n",
            "/usr/local/lib/python3.8/dist-packages/sklearn/metrics/_classification.py:1318: UndefinedMetricWarning: Precision and F-score are ill-defined and being set to 0.0 in labels with no predicted samples. Use `zero_division` parameter to control this behavior.\n",
            "  _warn_prf(average, modifier, msg_start, len(result))\n",
            "/usr/local/lib/python3.8/dist-packages/sklearn/metrics/_classification.py:1318: UndefinedMetricWarning: Precision and F-score are ill-defined and being set to 0.0 in labels with no predicted samples. Use `zero_division` parameter to control this behavior.\n",
            "  _warn_prf(average, modifier, msg_start, len(result))\n"
          ]
        }
      ]
    },
    {
      "cell_type": "code",
      "source": [
        "import matplotlib.pyplot as plt\n",
        "\n",
        "plt.plot(history2.history['loss'])\n",
        "plt.title('Training Loss after AlexNet')\n",
        "plt.xlabel('Epochs')\n",
        "plt.ylabel('Training Loss')\n",
        "plt.show()\n",
        "\n",
        "plt.plot(history2.history['accuracy'])\n",
        "plt.title('Training Accuracy after AlexNet')\n",
        "plt.xlabel('Epochs')\n",
        "plt.ylabel('Training Accuracy')\n",
        "plt.show()"
      ],
      "metadata": {
        "id": "TrpxwK3MIpcK",
        "outputId": "7bb6a7ca-5c26-415d-dddd-b3db21184ddb",
        "colab": {
          "base_uri": "https://localhost:8080/",
          "height": 573
        }
      },
      "execution_count": 35,
      "outputs": [
        {
          "output_type": "display_data",
          "data": {
            "text/plain": [
              "<Figure size 432x288 with 1 Axes>"
            ],
            "image/png": "[encoded data removed]"
          },
          "metadata": {
            "needs_background": "light"
          }
        },
        {
          "output_type": "display_data",
          "data": {
            "text/plain": [
              "<Figure size 432x288 with 1 Axes>"
            ],
            "image/png": "[encoded data removed]"
          },
          "metadata": {
            "needs_background": "light"
          }
        }
      ]
    },
    {
      "cell_type": "markdown",
      "source": [
        "<H1>VGG architecture<H1/>"
      ],
      "metadata": {
        "id": "pJKACoZwfnan"
      }
    },
    {
      "cell_type": "code",
      "source": [
        "from tensorflow.keras.layers import Conv2D, Input, MaxPooling2D, Flatten, Dense, Dropout\n",
        "inputs = Input(shape=(150, 150, 3))\n",
        "\n",
        "# First block of convolutional layers\n",
        "x3 = Conv2D(64, (3, 3), activation='relu', padding='same')(inputs)\n",
        "x3 = Conv2D(64, (3, 3), activation='relu', padding='same')(x3)\n",
        "x3 = MaxPooling2D((2, 2), strides=(2, 2))(x3)\n",
        "x3 = Dropout(0.5)(x3)\n",
        "\n",
        "# Second block of convolutional layers\n",
        "x3 = Conv2D(128, (3, 3), activation='relu', padding='same')(x3)\n",
        "x3 = Conv2D(128, (3, 3), activation='relu', padding='same')(x3)\n",
        "x3 = MaxPooling2D((2, 2), strides=(2, 2))(x3)\n",
        "x3 = Dropout(0.5)(x3)\n",
        "\n",
        "# Third block of convolutional layers\n",
        "x3 = Conv2D(256, (3, 3), activation='relu', padding='same')(x3)\n",
        "x3 = Conv2D(256, (3, 3), activation='relu', padding='same')(x3)\n",
        "x3 = Conv2D(256, (3, 3), activation='relu', padding='same')(x3)\n",
        "x3 = MaxPooling2D((2, 2), strides=(2, 2))(x3)\n",
        "x3 = Dropout(0.5)(x3)\n",
        "\n",
        "# Fourth block of convolutional layers\n",
        "x3 = Conv2D(512, (3, 3), activation='relu', padding='same')(x3)\n",
        "x3 = Conv2D(512, (3, 3), activation='relu', padding='same')(x3)\n",
        "x3 = Conv2D(512, (3, 3), activation='relu', padding='same')(x3)\n",
        "x3 = MaxPooling2D((2, 2), strides=(2, 2))(x3)\n",
        "x3 = Dropout(0.5)(x3)\n",
        "\n",
        "# Fifth block of convolutional layers\n",
        "x3 = Conv2D(512, (3, 3), activation='relu', padding='same')(x3)\n",
        "x3 = Conv2D(512, (3, 3), activation='relu', padding='same')(x3)\n",
        "x3 = Conv2D(512, (3, 3), activation='relu', padding='same')(x3)\n",
        "x3 = MaxPooling2D((2, 2), strides=(2, 2))(x3)\n",
        "x3 = Dropout(0.5)(x3)\n",
        "\n",
        "# Flatten and pass through dense layer\n",
        "x3 = Flatten()(x3)\n",
        "x3 = Dense(4096, activation='relu')(x3)\n",
        "x3 = Dense(4096, activation='relu')(x3)\n",
        "x3 = Dropout(0.5)(x3)\n",
        "\n",
        "# Output layer\n",
        "outputs = Dense(4, activation='softmax')(x3)\n",
        "\n",
        "# Create the model\n",
        "model3 = Model(inputs, outputs)"
      ],
      "metadata": {
        "id": "Ja8XnR-If_6z"
      },
      "execution_count": 29,
      "outputs": []
    },
    {
      "cell_type": "code",
      "source": [
        "# Compile the model\n",
        "model3.compile(optimizer='sgd', loss='mean_squared_error', metrics=['accuracy'])"
      ],
      "metadata": {
        "id": "-WVkWrTPg177"
      },
      "execution_count": 32,
      "outputs": []
    },
    {
      "cell_type": "code",
      "source": [
        "# Fit the model on the training data\n",
        "history3 = model3.fit(train_images, train_labels, epochs=50, batch_size=32)"
      ],
      "metadata": {
        "colab": {
          "base_uri": "https://localhost:8080/"
        },
        "id": "pRReoYAuhCqr",
        "outputId": "c7978575-2186-4ef0-b9ae-3a20b51b98c3"
      },
      "execution_count": 34,
      "outputs": [
        {
          "output_type": "stream",
          "name": "stdout",
          "text": [
            "Epoch 1/50\n",
            "80/80 [==============================] - 18s 228ms/step - loss: 0.0979 - accuracy: 0.7271\n",
            "Epoch 2/50\n",
            "80/80 [==============================] - 19s 233ms/step - loss: 0.0945 - accuracy: 0.7263\n",
            "Epoch 3/50\n",
            "80/80 [==============================] - 18s 230ms/step - loss: 0.0919 - accuracy: 0.7350\n",
            "Epoch 4/50\n",
            "80/80 [==============================] - 18s 228ms/step - loss: 0.0886 - accuracy: 0.7441\n",
            "Epoch 5/50\n",
            "80/80 [==============================] - 18s 228ms/step - loss: 0.0879 - accuracy: 0.7472\n",
            "Epoch 6/50\n",
            "80/80 [==============================] - 18s 229ms/step - loss: 0.0868 - accuracy: 0.7528\n",
            "Epoch 7/50\n",
            "80/80 [==============================] - 18s 229ms/step - loss: 0.0847 - accuracy: 0.7547\n",
            "Epoch 8/50\n",
            "80/80 [==============================] - 18s 229ms/step - loss: 0.0837 - accuracy: 0.7622\n",
            "Epoch 9/50\n",
            "80/80 [==============================] - 18s 229ms/step - loss: 0.0852 - accuracy: 0.7626\n",
            "Epoch 10/50\n",
            "80/80 [==============================] - 18s 229ms/step - loss: 0.0839 - accuracy: 0.7579\n",
            "Epoch 11/50\n",
            "80/80 [==============================] - 18s 229ms/step - loss: 0.0823 - accuracy: 0.7606\n",
            "Epoch 12/50\n",
            "80/80 [==============================] - 18s 230ms/step - loss: 0.0829 - accuracy: 0.7532\n",
            "Epoch 13/50\n",
            "80/80 [==============================] - 18s 230ms/step - loss: 0.0829 - accuracy: 0.7591\n",
            "Epoch 14/50\n",
            "80/80 [==============================] - 18s 229ms/step - loss: 0.0808 - accuracy: 0.7642\n",
            "Epoch 15/50\n",
            "80/80 [==============================] - 18s 229ms/step - loss: 0.0811 - accuracy: 0.7670\n",
            "Epoch 16/50\n",
            "80/80 [==============================] - 18s 229ms/step - loss: 0.0793 - accuracy: 0.7725\n",
            "Epoch 17/50\n",
            "80/80 [==============================] - 18s 229ms/step - loss: 0.0796 - accuracy: 0.7662\n",
            "Epoch 18/50\n",
            "80/80 [==============================] - 18s 229ms/step - loss: 0.0782 - accuracy: 0.7776\n",
            "Epoch 19/50\n",
            "80/80 [==============================] - 18s 229ms/step - loss: 0.0775 - accuracy: 0.7721\n",
            "Epoch 20/50\n",
            "80/80 [==============================] - 18s 229ms/step - loss: 0.0780 - accuracy: 0.7697\n",
            "Epoch 21/50\n",
            "80/80 [==============================] - 18s 229ms/step - loss: 0.0796 - accuracy: 0.7729\n",
            "Epoch 22/50\n",
            "80/80 [==============================] - 18s 229ms/step - loss: 0.0778 - accuracy: 0.7776\n",
            "Epoch 23/50\n",
            "80/80 [==============================] - 18s 229ms/step - loss: 0.0765 - accuracy: 0.7729\n",
            "Epoch 24/50\n",
            "80/80 [==============================] - 18s 229ms/step - loss: 0.0784 - accuracy: 0.7725\n",
            "Epoch 25/50\n",
            "80/80 [==============================] - 18s 229ms/step - loss: 0.0772 - accuracy: 0.7764\n",
            "Epoch 26/50\n",
            "80/80 [==============================] - 18s 229ms/step - loss: 0.0772 - accuracy: 0.7768\n",
            "Epoch 27/50\n",
            "80/80 [==============================] - 18s 229ms/step - loss: 0.0743 - accuracy: 0.7906\n",
            "Epoch 28/50\n",
            "80/80 [==============================] - 18s 229ms/step - loss: 0.0747 - accuracy: 0.7847\n",
            "Epoch 29/50\n",
            "80/80 [==============================] - 18s 229ms/step - loss: 0.0757 - accuracy: 0.7859\n",
            "Epoch 30/50\n",
            "80/80 [==============================] - 18s 229ms/step - loss: 0.0744 - accuracy: 0.7882\n",
            "Epoch 31/50\n",
            "80/80 [==============================] - 18s 229ms/step - loss: 0.0728 - accuracy: 0.7934\n",
            "Epoch 32/50\n",
            "80/80 [==============================] - 18s 229ms/step - loss: 0.0726 - accuracy: 0.7906\n",
            "Epoch 33/50\n",
            "80/80 [==============================] - 18s 229ms/step - loss: 0.0739 - accuracy: 0.7906\n",
            "Epoch 34/50\n",
            "80/80 [==============================] - 18s 231ms/step - loss: 0.0730 - accuracy: 0.7934\n",
            "Epoch 35/50\n",
            "80/80 [==============================] - 18s 229ms/step - loss: 0.0739 - accuracy: 0.7930\n",
            "Epoch 36/50\n",
            "80/80 [==============================] - 18s 230ms/step - loss: 0.0743 - accuracy: 0.7906\n",
            "Epoch 37/50\n",
            "80/80 [==============================] - 18s 229ms/step - loss: 0.0730 - accuracy: 0.7934\n",
            "Epoch 38/50\n",
            "80/80 [==============================] - 18s 231ms/step - loss: 0.0697 - accuracy: 0.8060\n",
            "Epoch 39/50\n",
            "80/80 [==============================] - 18s 230ms/step - loss: 0.0713 - accuracy: 0.7973\n",
            "Epoch 40/50\n",
            "80/80 [==============================] - 19s 232ms/step - loss: 0.0726 - accuracy: 0.7973\n",
            "Epoch 41/50\n",
            "80/80 [==============================] - 18s 231ms/step - loss: 0.0699 - accuracy: 0.8076\n",
            "Epoch 42/50\n",
            "80/80 [==============================] - 19s 233ms/step - loss: 0.0711 - accuracy: 0.8052\n",
            "Epoch 43/50\n",
            "80/80 [==============================] - 18s 229ms/step - loss: 0.0703 - accuracy: 0.8021\n",
            "Epoch 44/50\n",
            "80/80 [==============================] - 18s 229ms/step - loss: 0.0713 - accuracy: 0.8017\n",
            "Epoch 45/50\n",
            "80/80 [==============================] - 18s 229ms/step - loss: 0.0707 - accuracy: 0.8060\n",
            "Epoch 46/50\n",
            "80/80 [==============================] - 18s 229ms/step - loss: 0.0698 - accuracy: 0.8060\n",
            "Epoch 47/50\n",
            "80/80 [==============================] - 18s 229ms/step - loss: 0.0676 - accuracy: 0.8159\n",
            "Epoch 48/50\n",
            "80/80 [==============================] - 18s 230ms/step - loss: 0.0692 - accuracy: 0.8036\n",
            "Epoch 49/50\n",
            "80/80 [==============================] - 18s 229ms/step - loss: 0.0702 - accuracy: 0.7981\n",
            "Epoch 50/50\n",
            "80/80 [==============================] - 18s 229ms/step - loss: 0.0682 - accuracy: 0.8155\n"
          ]
        }
      ]
    },
    {
      "cell_type": "code",
      "source": [
        "test_loss3, test_accuracy3 = model3.evaluate(test_images, test_labels)"
      ],
      "metadata": {
        "colab": {
          "base_uri": "https://localhost:8080/"
        },
        "id": "4pi3nU4lhIjg",
        "outputId": "658f2337-807c-48af-bf31-88a7405ee870"
      },
      "execution_count": 36,
      "outputs": [
        {
          "output_type": "stream",
          "name": "stdout",
          "text": [
            "20/20 [==============================] - 2s 81ms/step - loss: 0.0819 - accuracy: 0.7685\n"
          ]
        }
      ]
    },
    {
      "cell_type": "code",
      "source": [
        "print('Test Loss after VGG:',test_loss3*100)\n",
        "print('Test Accuracy after VGG:',test_accuracy3*100)"
      ],
      "metadata": {
        "colab": {
          "base_uri": "https://localhost:8080/"
        },
        "id": "6onKoiP_hWw9",
        "outputId": "09ff15af-d139-4291-b60b-37c50eeeeedc"
      },
      "execution_count": 37,
      "outputs": [
        {
          "output_type": "stream",
          "name": "stdout",
          "text": [
            "Test Loss after VGG: 8.192316442728043\n",
            "Test Accuracy after VGG: 76.85039639472961\n"
          ]
        }
      ]
    },
    {
      "cell_type": "code",
      "source": [
        "# Predict classes for test data\n",
        "predictions3 = model3.predict(test_images)\n",
        "y_pred = np.argmax(predictions3, axis=1)\n",
        "\n",
        "from sklearn.metrics import classification_report\n",
        "# Generate classification report\n",
        "print(classification_report(np.argmax(test_labels, axis=1), y_pred))"
      ],
      "metadata": {
        "colab": {
          "base_uri": "https://localhost:8080/"
        },
        "id": "qJXZs31XhaLv",
        "outputId": "e2dca7dd-3bd7-4fe9-89c3-b7231adb9a5e"
      },
      "execution_count": 38,
      "outputs": [
        {
          "output_type": "stream",
          "name": "stdout",
          "text": [
            "20/20 [==============================] - 2s 77ms/step\n",
            "              precision    recall  f1-score   support\n",
            "\n",
            "           0       0.95      0.45      0.61       126\n",
            "           1       0.71      0.82      0.76       125\n",
            "           2       0.49      0.35      0.40        55\n",
            "           3       0.79      0.94      0.86       329\n",
            "\n",
            "    accuracy                           0.77       635\n",
            "   macro avg       0.73      0.64      0.66       635\n",
            "weighted avg       0.78      0.77      0.75       635\n",
            "\n"
          ]
        }
      ]
    },
    {
      "cell_type": "code",
      "source": [
        "import matplotlib.pyplot as plt\n",
        "\n",
        "plt.plot(history3.history['loss'])\n",
        "plt.title('Training Loss after VGG')\n",
        "plt.xlabel('Epochs')\n",
        "plt.ylabel('Training Loss')\n",
        "plt.show()\n",
        "\n",
        "plt.plot(history3.history['accuracy'])\n",
        "plt.title('Training Accuracy after VGG')\n",
        "plt.xlabel('Epochs')\n",
        "plt.ylabel('Training Accuracy')\n",
        "plt.show()"
      ],
      "metadata": {
        "id": "j3dQbKNJPod_",
        "outputId": "a7fa7a2e-26ce-4f96-8044-ada7287306fe",
        "colab": {
          "base_uri": "https://localhost:8080/",
          "height": 573
        }
      },
      "execution_count": 39,
      "outputs": [
        {
          "output_type": "display_data",
          "data": {
            "text/plain": [
              "<Figure size 432x288 with 1 Axes>"
            ],
            "image/png": "[encoded data removed]"
          },
          "metadata": {
            "needs_background": "light"
          }
        },
        {
          "output_type": "display_data",
          "data": {
            "text/plain": [
              "<Figure size 432x288 with 1 Axes>"
            ],
            "image/png": "[encoded data removed]"
          },
          "metadata": {
            "needs_background": "light"
          }
        }
      ]
    }
  ],
  "metadata": {
    "colab": {
      "provenance": [],
      "include_colab_link": true
    },
    "kernelspec": {
      "display_name": "Python 3",
      "name": "python3"
    },
    "language_info": {
      "name": "python"
    },
    "accelerator": "GPU",
    "gpuClass": "standard"
  },
  "nbformat": 4,
  "nbformat_minor": 0
}