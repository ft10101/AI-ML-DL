{ 
  "nbformat": 4,
  "nbformat_minor": 0,
  "metadata": {
    "colab": {
      "provenance": [],
      "authorship_tag": "ABX9TyM1rRmmwiOk52Mb4SiRSqRQ",
      "include_colab_link": true
    },
    "kernelspec": {
      "name": "python3",
      "display_name": "Python 3"
    },
    "language_info": {
      "name": "python"
    }
  },
  "cells": [
    {
      "cell_type": "markdown",
      "metadata": {
        "id": "view-in-github",
        "colab_type": "text"
      },
      "source": [
        "<a href=\"https://colab.research.google.com/github/ft10101/AI-ML/blob/main/Day2_GradientDescent.ipynb\" target=\"_parent\"><img src=\"https://colab.research.google.com/assets/colab-badge.svg\" alt=\"Open In Colab\"/></a>"
      ]
    },
    {
      "cell_type": "code",
      "execution_count": 157,
      "metadata": {
        "id": "xm6CibxzDe00"
      },
      "outputs": [],
      "source": [
        "import os #for excessing system files\n",
        "import pandas as pd #for using datastructure called dataframe \n",
        "import numpy as np #for numeric data\n",
        "import matplotlib.pyplot as mat #for visualisation\n",
        "#importing some important libraries as per our usage\n",
        "%matplotlib inline\n",
        "#saves all the generated images within notebook"
      ]
    },
    {
      "cell_type": "code",
      "source": [
        "dataframe = pd.read_csv('/content/ex1data1.txt',header = None, names = ['Population','Profit'])\n",
        "#uploading the dataset and saving it in datafreame variable and set column names as 'Population','Profit'\n",
        "dataframe.head()\n",
        "#display first 5 rows"
      ],
      "metadata": {
        "colab": {
          "base_uri": "https://localhost:8080/",
          "height": 206
        },
        "id": "EoBVYzZRE6sh",
        "outputId": "2d04d87a-5517-45b9-8ed9-1d8b2c0d9558"
      },
      "execution_count": 158,
      "outputs": [
        {
          "output_type": "execute_result",
          "data": {
            "text/plain": [
              "   Population   Profit\n",
              "0      6.1101  17.5920\n",
              "1      5.5277   9.1302\n",
              "2      8.5186  13.6620\n",
              "3      7.0032  11.8540\n",
              "4      5.8598   6.8233"
            ],
            "text/html": [
              "\n",
              "  <div id=\"df-bd4e9976-2fba-435b-bd57-c68916b427a4\">\n",
              "    <div class=\"colab-df-container\">\n",
              "      <div>\n",
              "<style scoped>\n",
              "    .dataframe tbody tr th:only-of-type {\n",
              "        vertical-align: middle;\n",
              "    }\n",
              "\n",
              "    .dataframe tbody tr th {\n",
              "        vertical-align: top;\n",
              "    }\n",
              "\n",
              "    .dataframe thead th {\n",
              "        text-align: right;\n",
              "    }\n",
              "</style>\n",
              "<table border=\"1\" class=\"dataframe\">\n",
              "  <thead>\n",
              "    <tr style=\"text-align: right;\">\n",
              "      <th></th>\n",
              "      <th>Population</th>\n",
              "      <th>Profit</th>\n",
              "    </tr>\n",
              "  </thead>\n",
              "  <tbody>\n",
              "    <tr>\n",
              "      <th>0</th>\n",
              "      <td>6.1101</td>\n",
              "      <td>17.5920</td>\n",
              "    </tr>\n",
              "    <tr>\n",
              "      <th>1</th>\n",
              "      <td>5.5277</td>\n",
              "      <td>9.1302</td>\n",
              "    </tr>\n",
              "    <tr>\n",
              "      <th>2</th>\n",
              "      <td>8.5186</td>\n",
              "      <td>13.6620</td>\n",
              "    </tr>\n",
              "    <tr>\n",
              "      <th>3</th>\n",
              "      <td>7.0032</td>\n",
              "      <td>11.8540</td>\n",
              "    </tr>\n",
              "    <tr>\n",
              "      <th>4</th>\n",
              "      <td>5.8598</td>\n",
              "      <td>6.8233</td>\n",
              "    </tr>\n",
              "  </tbody>\n",
              "</table>\n",
              "</div>\n",
              "      <button class=\"colab-df-convert\" onclick=\"convertToInteractive('df-bd4e9976-2fba-435b-bd57-c68916b427a4')\"\n",
              "              title=\"Convert this dataframe to an interactive table.\"\n",
              "              style=\"display:none;\">\n",
              "        \n",
              "  <svg xmlns=\"http://www.w3.org/2000/svg\" height=\"24px\"viewBox=\"0 0 24 24\"\n",
              "       width=\"24px\">\n",
              "    <path d=\"M0 0h24v24H0V0z\" fill=\"none\"/>\n",
              "    <path d=\"M18.56 5.44l.94 2.06.94-2.06 2.06-.94-2.06-.94-.94-2.06-.94 2.06-2.06.94zm-11 1L8.5 8.5l.94-2.06 2.06-.94-2.06-.94L8.5 2.5l-.94 2.06-2.06.94zm10 10l.94 2.06.94-2.06 2.06-.94-2.06-.94-.94-2.06-.94 2.06-2.06.94z\"/><path d=\"M17.41 7.96l-1.37-1.37c-.4-.4-.92-.59-1.43-.59-.52 0-1.04.2-1.43.59L10.3 9.45l-7.72 7.72c-.78.78-.78 2.05 0 2.83L4 21.41c.39.39.9.59 1.41.59.51 0 1.02-.2 1.41-.59l7.78-7.78 2.81-2.81c.8-.78.8-2.07 0-2.86zM5.41 20L4 18.59l7.72-7.72 1.47 1.35L5.41 20z\"/>\n",
              "  </svg>\n",
              "      </button>\n",
              "      \n",
              "  <style>\n",
              "    .colab-df-container {\n",
              "      display:flex;\n",
              "      flex-wrap:wrap;\n",
              "      gap: 12px;\n",
              "    }\n",
              "\n",
              "    .colab-df-convert {\n",
              "      background-color: #E8F0FE;\n",
              "      border: none;\n",
              "      border-radius: 50%;\n",
              "      cursor: pointer;\n",
              "      display: none;\n",
              "      fill: #1967D2;\n",
              "      height: 32px;\n",
              "      padding: 0 0 0 0;\n",
              "      width: 32px;\n",
              "    }\n",
              "\n",
              "    .colab-df-convert:hover {\n",
              "      background-color: #E2EBFA;\n",
              "      box-shadow: 0px 1px 2px rgba(60, 64, 67, 0.3), 0px 1px 3px 1px rgba(60, 64, 67, 0.15);\n",
              "      fill: #174EA6;\n",
              "    }\n",
              "\n",
              "    [theme=dark] .colab-df-convert {\n",
              "      background-color: #3B4455;\n",
              "      fill: #D2E3FC;\n",
              "    }\n",
              "\n",
              "    [theme=dark] .colab-df-convert:hover {\n",
              "      background-color: #434B5C;\n",
              "      box-shadow: 0px 1px 3px 1px rgba(0, 0, 0, 0.15);\n",
              "      filter: drop-shadow(0px 1px 2px rgba(0, 0, 0, 0.3));\n",
              "      fill: #FFFFFF;\n",
              "    }\n",
              "  </style>\n",
              "\n",
              "      <script>\n",
              "        const buttonEl =\n",
              "          document.querySelector('#df-bd4e9976-2fba-435b-bd57-c68916b427a4 button.colab-df-convert');\n",
              "        buttonEl.style.display =\n",
              "          google.colab.kernel.accessAllowed ? 'block' : 'none';\n",
              "\n",
              "        async function convertToInteractive(key) {\n",
              "          const element = document.querySelector('#df-bd4e9976-2fba-435b-bd57-c68916b427a4');\n",
              "          const dataTable =\n",
              "            await google.colab.kernel.invokeFunction('convertToInteractive',\n",
              "                                                     [key], {});\n",
              "          if (!dataTable) return;\n",
              "\n",
              "          const docLinkHtml = 'Like what you see? Visit the ' +\n",
              "            '<a target=\"_blank\" href=https://colab.research.google.com/notebooks/data_table.ipynb>data table notebook</a>'\n",
              "            + ' to learn more about interactive tables.';\n",
              "          element.innerHTML = '';\n",
              "          dataTable['output_type'] = 'display_data';\n",
              "          await google.colab.output.renderOutput(dataTable, element);\n",
              "          const docLink = document.createElement('div');\n",
              "          docLink.innerHTML = docLinkHtml;\n",
              "          element.appendChild(docLink);\n",
              "        }\n",
              "      </script>\n",
              "    </div>\n",
              "  </div>\n",
              "  "
            ]
          },
          "metadata": {},
          "execution_count": 158
        }
      ]
    },
    {
      "cell_type": "code",
      "source": [
        "dataframe #actual dataframe"
      ],
      "metadata": {
        "colab": {
          "base_uri": "https://localhost:8080/",
          "height": 424
        },
        "id": "6p_7pRnjIfYX",
        "outputId": "64cbe314-cd34-4851-bef6-e9dc675df684"
      },
      "execution_count": 159,
      "outputs": [
        {
          "output_type": "execute_result",
          "data": {
            "text/plain": [
              "    Population    Profit\n",
              "0       6.1101  17.59200\n",
              "1       5.5277   9.13020\n",
              "2       8.5186  13.66200\n",
              "3       7.0032  11.85400\n",
              "4       5.8598   6.82330\n",
              "..         ...       ...\n",
              "92      5.8707   7.20290\n",
              "93      5.3054   1.98690\n",
              "94      8.2934   0.14454\n",
              "95     13.3940   9.05510\n",
              "96      5.4369   0.61705\n",
              "\n",
              "[97 rows x 2 columns]"
            ],
            "text/html": [
              "\n",
              "  <div id=\"df-1887b255-48d2-4dad-ac6c-9debdbef4cfb\">\n",
              "    <div class=\"colab-df-container\">\n",
              "      <div>\n",
              "<style scoped>\n",
              "    .dataframe tbody tr th:only-of-type {\n",
              "        vertical-align: middle;\n",
              "    }\n",
              "\n",
              "    .dataframe tbody tr th {\n",
              "        vertical-align: top;\n",
              "    }\n",
              "\n",
              "    .dataframe thead th {\n",
              "        text-align: right;\n",
              "    }\n",
              "</style>\n",
              "<table border=\"1\" class=\"dataframe\">\n",
              "  <thead>\n",
              "    <tr style=\"text-align: right;\">\n",
              "      <th></th>\n",
              "      <th>Population</th>\n",
              "      <th>Profit</th>\n",
              "    </tr>\n",
              "  </thead>\n",
              "  <tbody>\n",
              "    <tr>\n",
              "      <th>0</th>\n",
              "      <td>6.1101</td>\n",
              "      <td>17.59200</td>\n",
              "    </tr>\n",
              "    <tr>\n",
              "      <th>1</th>\n",
              "      <td>5.5277</td>\n",
              "      <td>9.13020</td>\n",
              "    </tr>\n",
              "    <tr>\n",
              "      <th>2</th>\n",
              "      <td>8.5186</td>\n",
              "      <td>13.66200</td>\n",
              "    </tr>\n",
              "    <tr>\n",
              "      <th>3</th>\n",
              "      <td>7.0032</td>\n",
              "      <td>11.85400</td>\n",
              "    </tr>\n",
              "    <tr>\n",
              "      <th>4</th>\n",
              "      <td>5.8598</td>\n",
              "      <td>6.82330</td>\n",
              "    </tr>\n",
              "    <tr>\n",
              "      <th>...</th>\n",
              "      <td>...</td>\n",
              "      <td>...</td>\n",
              "    </tr>\n",
              "    <tr>\n",
              "      <th>92</th>\n",
              "      <td>5.8707</td>\n",
              "      <td>7.20290</td>\n",
              "    </tr>\n",
              "    <tr>\n",
              "      <th>93</th>\n",
              "      <td>5.3054</td>\n",
              "      <td>1.98690</td>\n",
              "    </tr>\n",
              "    <tr>\n",
              "      <th>94</th>\n",
              "      <td>8.2934</td>\n",
              "      <td>0.14454</td>\n",
              "    </tr>\n",
              "    <tr>\n",
              "      <th>95</th>\n",
              "      <td>13.3940</td>\n",
              "      <td>9.05510</td>\n",
              "    </tr>\n",
              "    <tr>\n",
              "      <th>96</th>\n",
              "      <td>5.4369</td>\n",
              "      <td>0.61705</td>\n",
              "    </tr>\n",
              "  </tbody>\n",
              "</table>\n",
              "<p>97 rows × 2 columns</p>\n",
              "</div>\n",
              "      <button class=\"colab-df-convert\" onclick=\"convertToInteractive('df-1887b255-48d2-4dad-ac6c-9debdbef4cfb')\"\n",
              "              title=\"Convert this dataframe to an interactive table.\"\n",
              "              style=\"display:none;\">\n",
              "        \n",
              "  <svg xmlns=\"http://www.w3.org/2000/svg\" height=\"24px\"viewBox=\"0 0 24 24\"\n",
              "       width=\"24px\">\n",
              "    <path d=\"M0 0h24v24H0V0z\" fill=\"none\"/>\n",
              "    <path d=\"M18.56 5.44l.94 2.06.94-2.06 2.06-.94-2.06-.94-.94-2.06-.94 2.06-2.06.94zm-11 1L8.5 8.5l.94-2.06 2.06-.94-2.06-.94L8.5 2.5l-.94 2.06-2.06.94zm10 10l.94 2.06.94-2.06 2.06-.94-2.06-.94-.94-2.06-.94 2.06-2.06.94z\"/><path d=\"M17.41 7.96l-1.37-1.37c-.4-.4-.92-.59-1.43-.59-.52 0-1.04.2-1.43.59L10.3 9.45l-7.72 7.72c-.78.78-.78 2.05 0 2.83L4 21.41c.39.39.9.59 1.41.59.51 0 1.02-.2 1.41-.59l7.78-7.78 2.81-2.81c.8-.78.8-2.07 0-2.86zM5.41 20L4 18.59l7.72-7.72 1.47 1.35L5.41 20z\"/>\n",
              "  </svg>\n",
              "      </button>\n",
              "      \n",
              "  <style>\n",
              "    .colab-df-container {\n",
              "      display:flex;\n",
              "      flex-wrap:wrap;\n",
              "      gap: 12px;\n",
              "    }\n",
              "\n",
              "    .colab-df-convert {\n",
              "      background-color: #E8F0FE;\n",
              "      border: none;\n",
              "      border-radius: 50%;\n",
              "      cursor: pointer;\n",
              "      display: none;\n",
              "      fill: #1967D2;\n",
              "      height: 32px;\n",
              "      padding: 0 0 0 0;\n",
              "      width: 32px;\n",
              "    }\n",
              "\n",
              "    .colab-df-convert:hover {\n",
              "      background-color: #E2EBFA;\n",
              "      box-shadow: 0px 1px 2px rgba(60, 64, 67, 0.3), 0px 1px 3px 1px rgba(60, 64, 67, 0.15);\n",
              "      fill: #174EA6;\n",
              "    }\n",
              "\n",
              "    [theme=dark] .colab-df-convert {\n",
              "      background-color: #3B4455;\n",
              "      fill: #D2E3FC;\n",
              "    }\n",
              "\n",
              "    [theme=dark] .colab-df-convert:hover {\n",
              "      background-color: #434B5C;\n",
              "      box-shadow: 0px 1px 3px 1px rgba(0, 0, 0, 0.15);\n",
              "      filter: drop-shadow(0px 1px 2px rgba(0, 0, 0, 0.3));\n",
              "      fill: #FFFFFF;\n",
              "    }\n",
              "  </style>\n",
              "\n",
              "      <script>\n",
              "        const buttonEl =\n",
              "          document.querySelector('#df-1887b255-48d2-4dad-ac6c-9debdbef4cfb button.colab-df-convert');\n",
              "        buttonEl.style.display =\n",
              "          google.colab.kernel.accessAllowed ? 'block' : 'none';\n",
              "\n",
              "        async function convertToInteractive(key) {\n",
              "          const element = document.querySelector('#df-1887b255-48d2-4dad-ac6c-9debdbef4cfb');\n",
              "          const dataTable =\n",
              "            await google.colab.kernel.invokeFunction('convertToInteractive',\n",
              "                                                     [key], {});\n",
              "          if (!dataTable) return;\n",
              "\n",
              "          const docLinkHtml = 'Like what you see? Visit the ' +\n",
              "            '<a target=\"_blank\" href=https://colab.research.google.com/notebooks/data_table.ipynb>data table notebook</a>'\n",
              "            + ' to learn more about interactive tables.';\n",
              "          element.innerHTML = '';\n",
              "          dataTable['output_type'] = 'display_data';\n",
              "          await google.colab.output.renderOutput(dataTable, element);\n",
              "          const docLink = document.createElement('div');\n",
              "          docLink.innerHTML = docLinkHtml;\n",
              "          element.appendChild(docLink);\n",
              "        }\n",
              "      </script>\n",
              "    </div>\n",
              "  </div>\n",
              "  "
            ]
          },
          "metadata": {},
          "execution_count": 159
        }
      ]
    },
    {
      "cell_type": "code",
      "source": [
        "dataframe.describe()\n",
        "# describe() gives min, max,count, std, etc."
      ],
      "metadata": {
        "colab": {
          "base_uri": "https://localhost:8080/",
          "height": 300
        },
        "id": "sTX_gtBmGhQG",
        "outputId": "a8dafbd1-af75-4d7a-f876-58259e82db97"
      },
      "execution_count": 160,
      "outputs": [
        {
          "output_type": "execute_result",
          "data": {
            "text/plain": [
              "       Population     Profit\n",
              "count   97.000000  97.000000\n",
              "mean     8.159800   5.839135\n",
              "std      3.869884   5.510262\n",
              "min      5.026900  -2.680700\n",
              "25%      5.707700   1.986900\n",
              "50%      6.589400   4.562300\n",
              "75%      8.578100   7.046700\n",
              "max     22.203000  24.147000"
            ],
            "text/html": [
              "\n",
              "  <div id=\"df-ea67ab05-6ae3-4f9c-811f-1869402f22eb\">\n",
              "    <div class=\"colab-df-container\">\n",
              "      <div>\n",
              "<style scoped>\n",
              "    .dataframe tbody tr th:only-of-type {\n",
              "        vertical-align: middle;\n",
              "    }\n",
              "\n",
              "    .dataframe tbody tr th {\n",
              "        vertical-align: top;\n",
              "    }\n",
              "\n",
              "    .dataframe thead th {\n",
              "        text-align: right;\n",
              "    }\n",
              "</style>\n",
              "<table border=\"1\" class=\"dataframe\">\n",
              "  <thead>\n",
              "    <tr style=\"text-align: right;\">\n",
              "      <th></th>\n",
              "      <th>Population</th>\n",
              "      <th>Profit</th>\n",
              "    </tr>\n",
              "  </thead>\n",
              "  <tbody>\n",
              "    <tr>\n",
              "      <th>count</th>\n",
              "      <td>97.000000</td>\n",
              "      <td>97.000000</td>\n",
              "    </tr>\n",
              "    <tr>\n",
              "      <th>mean</th>\n",
              "      <td>8.159800</td>\n",
              "      <td>5.839135</td>\n",
              "    </tr>\n",
              "    <tr>\n",
              "      <th>std</th>\n",
              "      <td>3.869884</td>\n",
              "      <td>5.510262</td>\n",
              "    </tr>\n",
              "    <tr>\n",
              "      <th>min</th>\n",
              "      <td>5.026900</td>\n",
              "      <td>-2.680700</td>\n",
              "    </tr>\n",
              "    <tr>\n",
              "      <th>25%</th>\n",
              "      <td>5.707700</td>\n",
              "      <td>1.986900</td>\n",
              "    </tr>\n",
              "    <tr>\n",
              "      <th>50%</th>\n",
              "      <td>6.589400</td>\n",
              "      <td>4.562300</td>\n",
              "    </tr>\n",
              "    <tr>\n",
              "      <th>75%</th>\n",
              "      <td>8.578100</td>\n",
              "      <td>7.046700</td>\n",
              "    </tr>\n",
              "    <tr>\n",
              "      <th>max</th>\n",
              "      <td>22.203000</td>\n",
              "      <td>24.147000</td>\n",
              "    </tr>\n",
              "  </tbody>\n",
              "</table>\n",
              "</div>\n",
              "      <button class=\"colab-df-convert\" onclick=\"convertToInteractive('df-ea67ab05-6ae3-4f9c-811f-1869402f22eb')\"\n",
              "              title=\"Convert this dataframe to an interactive table.\"\n",
              "              style=\"display:none;\">\n",
              "        \n",
              "  <svg xmlns=\"http://www.w3.org/2000/svg\" height=\"24px\"viewBox=\"0 0 24 24\"\n",
              "       width=\"24px\">\n",
              "    <path d=\"M0 0h24v24H0V0z\" fill=\"none\"/>\n",
              "    <path d=\"M18.56 5.44l.94 2.06.94-2.06 2.06-.94-2.06-.94-.94-2.06-.94 2.06-2.06.94zm-11 1L8.5 8.5l.94-2.06 2.06-.94-2.06-.94L8.5 2.5l-.94 2.06-2.06.94zm10 10l.94 2.06.94-2.06 2.06-.94-2.06-.94-.94-2.06-.94 2.06-2.06.94z\"/><path d=\"M17.41 7.96l-1.37-1.37c-.4-.4-.92-.59-1.43-.59-.52 0-1.04.2-1.43.59L10.3 9.45l-7.72 7.72c-.78.78-.78 2.05 0 2.83L4 21.41c.39.39.9.59 1.41.59.51 0 1.02-.2 1.41-.59l7.78-7.78 2.81-2.81c.8-.78.8-2.07 0-2.86zM5.41 20L4 18.59l7.72-7.72 1.47 1.35L5.41 20z\"/>\n",
              "  </svg>\n",
              "      </button>\n",
              "      \n",
              "  <style>\n",
              "    .colab-df-container {\n",
              "      display:flex;\n",
              "      flex-wrap:wrap;\n",
              "      gap: 12px;\n",
              "    }\n",
              "\n",
              "    .colab-df-convert {\n",
              "      background-color: #E8F0FE;\n",
              "      border: none;\n",
              "      border-radius: 50%;\n",
              "      cursor: pointer;\n",
              "      display: none;\n",
              "      fill: #1967D2;\n",
              "      height: 32px;\n",
              "      padding: 0 0 0 0;\n",
              "      width: 32px;\n",
              "    }\n",
              "\n",
              "    .colab-df-convert:hover {\n",
              "      background-color: #E2EBFA;\n",
              "      box-shadow: 0px 1px 2px rgba(60, 64, 67, 0.3), 0px 1px 3px 1px rgba(60, 64, 67, 0.15);\n",
              "      fill: #174EA6;\n",
              "    }\n",
              "\n",
              "    [theme=dark] .colab-df-convert {\n",
              "      background-color: #3B4455;\n",
              "      fill: #D2E3FC;\n",
              "    }\n",
              "\n",
              "    [theme=dark] .colab-df-convert:hover {\n",
              "      background-color: #434B5C;\n",
              "      box-shadow: 0px 1px 3px 1px rgba(0, 0, 0, 0.15);\n",
              "      filter: drop-shadow(0px 1px 2px rgba(0, 0, 0, 0.3));\n",
              "      fill: #FFFFFF;\n",
              "    }\n",
              "  </style>\n",
              "\n",
              "      <script>\n",
              "        const buttonEl =\n",
              "          document.querySelector('#df-ea67ab05-6ae3-4f9c-811f-1869402f22eb button.colab-df-convert');\n",
              "        buttonEl.style.display =\n",
              "          google.colab.kernel.accessAllowed ? 'block' : 'none';\n",
              "\n",
              "        async function convertToInteractive(key) {\n",
              "          const element = document.querySelector('#df-ea67ab05-6ae3-4f9c-811f-1869402f22eb');\n",
              "          const dataTable =\n",
              "            await google.colab.kernel.invokeFunction('convertToInteractive',\n",
              "                                                     [key], {});\n",
              "          if (!dataTable) return;\n",
              "\n",
              "          const docLinkHtml = 'Like what you see? Visit the ' +\n",
              "            '<a target=\"_blank\" href=https://colab.research.google.com/notebooks/data_table.ipynb>data table notebook</a>'\n",
              "            + ' to learn more about interactive tables.';\n",
              "          element.innerHTML = '';\n",
              "          dataTable['output_type'] = 'display_data';\n",
              "          await google.colab.output.renderOutput(dataTable, element);\n",
              "          const docLink = document.createElement('div');\n",
              "          docLink.innerHTML = docLinkHtml;\n",
              "          element.appendChild(docLink);\n",
              "        }\n",
              "      </script>\n",
              "    </div>\n",
              "  </div>\n",
              "  "
            ]
          },
          "metadata": {},
          "execution_count": 160
        }
      ]
    },
    {
      "cell_type": "code",
      "source": [
        "dataframe.T   #to transpose the dataframe"
      ],
      "metadata": {
        "colab": {
          "base_uri": "https://localhost:8080/",
          "height": 205
        },
        "id": "MeR_5K6gHqKy",
        "outputId": "c8a9f654-3b75-4520-8123-f60d1af2e10c"
      },
      "execution_count": 161,
      "outputs": [
        {
          "output_type": "execute_result",
          "data": {
            "text/plain": [
              "                 0       1        2        3       4        5       6   \\\n",
              "Population   6.1101  5.5277   8.5186   7.0032  5.8598   8.3829  7.4764   \n",
              "Profit      17.5920  9.1302  13.6620  11.8540  6.8233  11.8860  4.3483   \n",
              "\n",
              "                 7       8       9   ...       87      88      89      90  \\\n",
              "Population   8.5781  6.4862  5.0546  ...  6.00200  5.5204  5.0594  5.7077   \n",
              "Profit      12.0000  6.5987  3.8166  ...  0.92695  0.1520  2.8214  1.8451   \n",
              "\n",
              "                91      92      93       94       95       96  \n",
              "Population  7.6366  5.8707  5.3054  8.29340  13.3940  5.43690  \n",
              "Profit      4.2959  7.2029  1.9869  0.14454   9.0551  0.61705  \n",
              "\n",
              "[2 rows x 97 columns]"
            ],
            "text/html": [
              "\n",
              "  <div id=\"df-865fea3a-d8a8-4329-8aae-4a3a81fb20af\">\n",
              "    <div class=\"colab-df-container\">\n",
              "      <div>\n",
              "<style scoped>\n",
              "    .dataframe tbody tr th:only-of-type {\n",
              "        vertical-align: middle;\n",
              "    }\n",
              "\n",
              "    .dataframe tbody tr th {\n",
              "        vertical-align: top;\n",
              "    }\n",
              "\n",
              "    .dataframe thead th {\n",
              "        text-align: right;\n",
              "    }\n",
              "</style>\n",
              "<table border=\"1\" class=\"dataframe\">\n",
              "  <thead>\n",
              "    <tr style=\"text-align: right;\">\n",
              "      <th></th>\n",
              "      <th>0</th>\n",
              "      <th>1</th>\n",
              "      <th>2</th>\n",
              "      <th>3</th>\n",
              "      <th>4</th>\n",
              "      <th>5</th>\n",
              "      <th>6</th>\n",
              "      <th>7</th>\n",
              "      <th>8</th>\n",
              "      <th>9</th>\n",
              "      <th>...</th>\n",
              "      <th>87</th>\n",
              "      <th>88</th>\n",
              "      <th>89</th>\n",
              "      <th>90</th>\n",
              "      <th>91</th>\n",
              "      <th>92</th>\n",
              "      <th>93</th>\n",
              "      <th>94</th>\n",
              "      <th>95</th>\n",
              "      <th>96</th>\n",
              "    </tr>\n",
              "  </thead>\n",
              "  <tbody>\n",
              "    <tr>\n",
              "      <th>Population</th>\n",
              "      <td>6.1101</td>\n",
              "      <td>5.5277</td>\n",
              "      <td>8.5186</td>\n",
              "      <td>7.0032</td>\n",
              "      <td>5.8598</td>\n",
              "      <td>8.3829</td>\n",
              "      <td>7.4764</td>\n",
              "      <td>8.5781</td>\n",
              "      <td>6.4862</td>\n",
              "      <td>5.0546</td>\n",
              "      <td>...</td>\n",
              "      <td>6.00200</td>\n",
              "      <td>5.5204</td>\n",
              "      <td>5.0594</td>\n",
              "      <td>5.7077</td>\n",
              "      <td>7.6366</td>\n",
              "      <td>5.8707</td>\n",
              "      <td>5.3054</td>\n",
              "      <td>8.29340</td>\n",
              "      <td>13.3940</td>\n",
              "      <td>5.43690</td>\n",
              "    </tr>\n",
              "    <tr>\n",
              "      <th>Profit</th>\n",
              "      <td>17.5920</td>\n",
              "      <td>9.1302</td>\n",
              "      <td>13.6620</td>\n",
              "      <td>11.8540</td>\n",
              "      <td>6.8233</td>\n",
              "      <td>11.8860</td>\n",
              "      <td>4.3483</td>\n",
              "      <td>12.0000</td>\n",
              "      <td>6.5987</td>\n",
              "      <td>3.8166</td>\n",
              "      <td>...</td>\n",
              "      <td>0.92695</td>\n",
              "      <td>0.1520</td>\n",
              "      <td>2.8214</td>\n",
              "      <td>1.8451</td>\n",
              "      <td>4.2959</td>\n",
              "      <td>7.2029</td>\n",
              "      <td>1.9869</td>\n",
              "      <td>0.14454</td>\n",
              "      <td>9.0551</td>\n",
              "      <td>0.61705</td>\n",
              "    </tr>\n",
              "  </tbody>\n",
              "</table>\n",
              "<p>2 rows × 97 columns</p>\n",
              "</div>\n",
              "      <button class=\"colab-df-convert\" onclick=\"convertToInteractive('df-865fea3a-d8a8-4329-8aae-4a3a81fb20af')\"\n",
              "              title=\"Convert this dataframe to an interactive table.\"\n",
              "              style=\"display:none;\">\n",
              "        \n",
              "  <svg xmlns=\"http://www.w3.org/2000/svg\" height=\"24px\"viewBox=\"0 0 24 24\"\n",
              "       width=\"24px\">\n",
              "    <path d=\"M0 0h24v24H0V0z\" fill=\"none\"/>\n",
              "    <path d=\"M18.56 5.44l.94 2.06.94-2.06 2.06-.94-2.06-.94-.94-2.06-.94 2.06-2.06.94zm-11 1L8.5 8.5l.94-2.06 2.06-.94-2.06-.94L8.5 2.5l-.94 2.06-2.06.94zm10 10l.94 2.06.94-2.06 2.06-.94-2.06-.94-.94-2.06-.94 2.06-2.06.94z\"/><path d=\"M17.41 7.96l-1.37-1.37c-.4-.4-.92-.59-1.43-.59-.52 0-1.04.2-1.43.59L10.3 9.45l-7.72 7.72c-.78.78-.78 2.05 0 2.83L4 21.41c.39.39.9.59 1.41.59.51 0 1.02-.2 1.41-.59l7.78-7.78 2.81-2.81c.8-.78.8-2.07 0-2.86zM5.41 20L4 18.59l7.72-7.72 1.47 1.35L5.41 20z\"/>\n",
              "  </svg>\n",
              "      </button>\n",
              "      \n",
              "  <style>\n",
              "    .colab-df-container {\n",
              "      display:flex;\n",
              "      flex-wrap:wrap;\n",
              "      gap: 12px;\n",
              "    }\n",
              "\n",
              "    .colab-df-convert {\n",
              "      background-color: #E8F0FE;\n",
              "      border: none;\n",
              "      border-radius: 50%;\n",
              "      cursor: pointer;\n",
              "      display: none;\n",
              "      fill: #1967D2;\n",
              "      height: 32px;\n",
              "      padding: 0 0 0 0;\n",
              "      width: 32px;\n",
              "    }\n",
              "\n",
              "    .colab-df-convert:hover {\n",
              "      background-color: #E2EBFA;\n",
              "      box-shadow: 0px 1px 2px rgba(60, 64, 67, 0.3), 0px 1px 3px 1px rgba(60, 64, 67, 0.15);\n",
              "      fill: #174EA6;\n",
              "    }\n",
              "\n",
              "    [theme=dark] .colab-df-convert {\n",
              "      background-color: #3B4455;\n",
              "      fill: #D2E3FC;\n",
              "    }\n",
              "\n",
              "    [theme=dark] .colab-df-convert:hover {\n",
              "      background-color: #434B5C;\n",
              "      box-shadow: 0px 1px 3px 1px rgba(0, 0, 0, 0.15);\n",
              "      filter: drop-shadow(0px 1px 2px rgba(0, 0, 0, 0.3));\n",
              "      fill: #FFFFFF;\n",
              "    }\n",
              "  </style>\n",
              "\n",
              "      <script>\n",
              "        const buttonEl =\n",
              "          document.querySelector('#df-865fea3a-d8a8-4329-8aae-4a3a81fb20af button.colab-df-convert');\n",
              "        buttonEl.style.display =\n",
              "          google.colab.kernel.accessAllowed ? 'block' : 'none';\n",
              "\n",
              "        async function convertToInteractive(key) {\n",
              "          const element = document.querySelector('#df-865fea3a-d8a8-4329-8aae-4a3a81fb20af');\n",
              "          const dataTable =\n",
              "            await google.colab.kernel.invokeFunction('convertToInteractive',\n",
              "                                                     [key], {});\n",
              "          if (!dataTable) return;\n",
              "\n",
              "          const docLinkHtml = 'Like what you see? Visit the ' +\n",
              "            '<a target=\"_blank\" href=https://colab.research.google.com/notebooks/data_table.ipynb>data table notebook</a>'\n",
              "            + ' to learn more about interactive tables.';\n",
              "          element.innerHTML = '';\n",
              "          dataTable['output_type'] = 'display_data';\n",
              "          await google.colab.output.renderOutput(dataTable, element);\n",
              "          const docLink = document.createElement('div');\n",
              "          docLink.innerHTML = docLinkHtml;\n",
              "          element.appendChild(docLink);\n",
              "        }\n",
              "      </script>\n",
              "    </div>\n",
              "  </div>\n",
              "  "
            ]
          },
          "metadata": {},
          "execution_count": 161
        }
      ]
    },
    {
      "cell_type": "code",
      "source": [
        "dataframe.plot( kind = 'scatter', x = 'Profit', y = 'Population', figsize = (8,4))\n",
        "#plotting a scatter graph of profit and population"
      ],
      "metadata": {
        "colab": {
          "base_uri": "https://localhost:8080/",
          "height": 296
        },
        "id": "wJdK1E9SIbo7",
        "outputId": "9a767791-e496-4bb3-fa0c-58d4c4571ffe"
      },
      "execution_count": 162,
      "outputs": [
        {
          "output_type": "execute_result",
          "data": {
            "text/plain": [
              "<matplotlib.axes._subplots.AxesSubplot at 0x7f21c58ce2e0>"
            ]
          },
          "metadata": {},
          "execution_count": 162
        },
        {
          "output_type": "display_data",
          "data": {
            "text/plain": [
              "<Figure size 576x288 with 1 Axes>"
            ],
            "image/png": "[encoded data removed]"
          },
          "metadata": {
            "needs_background": "light"
          }
        }
      ]
    },
    {
      "cell_type": "markdown",
      "source": [
        "#Function to compute the cost function"
      ],
      "metadata": {
        "id": "5ZmwnAqMLsX-"
      }
    },
    {
      "cell_type": "code",
      "source": [
        "def computecost( X, y, theta):    #function definition\n",
        "      inner_product = np.power(((X * theta.T) - y), 2) #\n",
        "      return np.sum(inner_product) / (2 * len(X))"
      ],
      "metadata": {
        "id": "BBA9cVrlJAjx"
      },
      "execution_count": 163,
      "outputs": []
    },
    {
      "cell_type": "markdown",
      "source": [
        "\n",
        "![Cost_Function_Formula.png](data:image/png;base64,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)\n",
        "\n"
      ],
      "metadata": {
        "id": "_14BgszfKCtO"
      }
    },
    {
      "cell_type": "markdown",
      "source": [
        "Apending 1's column to the front of our dataframe"
      ],
      "metadata": {
        "id": "HLf6CaKsMrUe"
      }
    },
    {
      "cell_type": "code",
      "source": [
        "dataframe.insert(0,'Ones', 1) \n",
        " #adding a new column names Ones having only 1's"
      ],
      "metadata": {
        "id": "JsluFNtNKtwS"
      },
      "execution_count": 164,
      "outputs": []
    },
    {
      "cell_type": "code",
      "source": [
        "dataframe.head()"
      ],
      "metadata": {
        "colab": {
          "base_uri": "https://localhost:8080/",
          "height": 206
        },
        "id": "88qIeaRXMA2Q",
        "outputId": "1b01cad8-8c9c-4b54-f5ef-e792a5ea418c"
      },
      "execution_count": 165,
      "outputs": [
        {
          "output_type": "execute_result",
          "data": {
            "text/plain": [
              "   Ones  Population   Profit\n",
              "0     1      6.1101  17.5920\n",
              "1     1      5.5277   9.1302\n",
              "2     1      8.5186  13.6620\n",
              "3     1      7.0032  11.8540\n",
              "4     1      5.8598   6.8233"
            ],
            "text/html": [
              "\n",
              "  <div id=\"df-313d39f1-558d-4861-865d-bf80553b1bbb\">\n",
              "    <div class=\"colab-df-container\">\n",
              "      <div>\n",
              "<style scoped>\n",
              "    .dataframe tbody tr th:only-of-type {\n",
              "        vertical-align: middle;\n",
              "    }\n",
              "\n",
              "    .dataframe tbody tr th {\n",
              "        vertical-align: top;\n",
              "    }\n",
              "\n",
              "    .dataframe thead th {\n",
              "        text-align: right;\n",
              "    }\n",
              "</style>\n",
              "<table border=\"1\" class=\"dataframe\">\n",
              "  <thead>\n",
              "    <tr style=\"text-align: right;\">\n",
              "      <th></th>\n",
              "      <th>Ones</th>\n",
              "      <th>Population</th>\n",
              "      <th>Profit</th>\n",
              "    </tr>\n",
              "  </thead>\n",
              "  <tbody>\n",
              "    <tr>\n",
              "      <th>0</th>\n",
              "      <td>1</td>\n",
              "      <td>6.1101</td>\n",
              "      <td>17.5920</td>\n",
              "    </tr>\n",
              "    <tr>\n",
              "      <th>1</th>\n",
              "      <td>1</td>\n",
              "      <td>5.5277</td>\n",
              "      <td>9.1302</td>\n",
              "    </tr>\n",
              "    <tr>\n",
              "      <th>2</th>\n",
              "      <td>1</td>\n",
              "      <td>8.5186</td>\n",
              "      <td>13.6620</td>\n",
              "    </tr>\n",
              "    <tr>\n",
              "      <th>3</th>\n",
              "      <td>1</td>\n",
              "      <td>7.0032</td>\n",
              "      <td>11.8540</td>\n",
              "    </tr>\n",
              "    <tr>\n",
              "      <th>4</th>\n",
              "      <td>1</td>\n",
              "      <td>5.8598</td>\n",
              "      <td>6.8233</td>\n",
              "    </tr>\n",
              "  </tbody>\n",
              "</table>\n",
              "</div>\n",
              "      <button class=\"colab-df-convert\" onclick=\"convertToInteractive('df-313d39f1-558d-4861-865d-bf80553b1bbb')\"\n",
              "              title=\"Convert this dataframe to an interactive table.\"\n",
              "              style=\"display:none;\">\n",
              "        \n",
              "  <svg xmlns=\"http://www.w3.org/2000/svg\" height=\"24px\"viewBox=\"0 0 24 24\"\n",
              "       width=\"24px\">\n",
              "    <path d=\"M0 0h24v24H0V0z\" fill=\"none\"/>\n",
              "    <path d=\"M18.56 5.44l.94 2.06.94-2.06 2.06-.94-2.06-.94-.94-2.06-.94 2.06-2.06.94zm-11 1L8.5 8.5l.94-2.06 2.06-.94-2.06-.94L8.5 2.5l-.94 2.06-2.06.94zm10 10l.94 2.06.94-2.06 2.06-.94-2.06-.94-.94-2.06-.94 2.06-2.06.94z\"/><path d=\"M17.41 7.96l-1.37-1.37c-.4-.4-.92-.59-1.43-.59-.52 0-1.04.2-1.43.59L10.3 9.45l-7.72 7.72c-.78.78-.78 2.05 0 2.83L4 21.41c.39.39.9.59 1.41.59.51 0 1.02-.2 1.41-.59l7.78-7.78 2.81-2.81c.8-.78.8-2.07 0-2.86zM5.41 20L4 18.59l7.72-7.72 1.47 1.35L5.41 20z\"/>\n",
              "  </svg>\n",
              "      </button>\n",
              "      \n",
              "  <style>\n",
              "    .colab-df-container {\n",
              "      display:flex;\n",
              "      flex-wrap:wrap;\n",
              "      gap: 12px;\n",
              "    }\n",
              "\n",
              "    .colab-df-convert {\n",
              "      background-color: #E8F0FE;\n",
              "      border: none;\n",
              "      border-radius: 50%;\n",
              "      cursor: pointer;\n",
              "      display: none;\n",
              "      fill: #1967D2;\n",
              "      height: 32px;\n",
              "      padding: 0 0 0 0;\n",
              "      width: 32px;\n",
              "    }\n",
              "\n",
              "    .colab-df-convert:hover {\n",
              "      background-color: #E2EBFA;\n",
              "      box-shadow: 0px 1px 2px rgba(60, 64, 67, 0.3), 0px 1px 3px 1px rgba(60, 64, 67, 0.15);\n",
              "      fill: #174EA6;\n",
              "    }\n",
              "\n",
              "    [theme=dark] .colab-df-convert {\n",
              "      background-color: #3B4455;\n",
              "      fill: #D2E3FC;\n",
              "    }\n",
              "\n",
              "    [theme=dark] .colab-df-convert:hover {\n",
              "      background-color: #434B5C;\n",
              "      box-shadow: 0px 1px 3px 1px rgba(0, 0, 0, 0.15);\n",
              "      filter: drop-shadow(0px 1px 2px rgba(0, 0, 0, 0.3));\n",
              "      fill: #FFFFFF;\n",
              "    }\n",
              "  </style>\n",
              "\n",
              "      <script>\n",
              "        const buttonEl =\n",
              "          document.querySelector('#df-313d39f1-558d-4861-865d-bf80553b1bbb button.colab-df-convert');\n",
              "        buttonEl.style.display =\n",
              "          google.colab.kernel.accessAllowed ? 'block' : 'none';\n",
              "\n",
              "        async function convertToInteractive(key) {\n",
              "          const element = document.querySelector('#df-313d39f1-558d-4861-865d-bf80553b1bbb');\n",
              "          const dataTable =\n",
              "            await google.colab.kernel.invokeFunction('convertToInteractive',\n",
              "                                                     [key], {});\n",
              "          if (!dataTable) return;\n",
              "\n",
              "          const docLinkHtml = 'Like what you see? Visit the ' +\n",
              "            '<a target=\"_blank\" href=https://colab.research.google.com/notebooks/data_table.ipynb>data table notebook</a>'\n",
              "            + ' to learn more about interactive tables.';\n",
              "          element.innerHTML = '';\n",
              "          dataTable['output_type'] = 'display_data';\n",
              "          await google.colab.output.renderOutput(dataTable, element);\n",
              "          const docLink = document.createElement('div');\n",
              "          docLink.innerHTML = docLinkHtml;\n",
              "          element.appendChild(docLink);\n",
              "        }\n",
              "      </script>\n",
              "    </div>\n",
              "  </div>\n",
              "  "
            ]
          },
          "metadata": {},
          "execution_count": 165
        }
      ]
    },
    {
      "cell_type": "markdown",
      "source": [
        "Set training data (x) and target variable (y)"
      ],
      "metadata": {
        "id": "mgmBJSu0M9tf"
      }
    },
    {
      "cell_type": "code",
      "source": [
        "cols = dataframe.shape[1]   #number of columns\n",
        "cols"
      ],
      "metadata": {
        "colab": {
          "base_uri": "https://localhost:8080/"
        },
        "id": "289QAOb1MDYr",
        "outputId": "7e0cf99c-47aa-459d-cbfc-ec24288f0444"
      },
      "execution_count": 166,
      "outputs": [
        {
          "output_type": "execute_result",
          "data": {
            "text/plain": [
              "3"
            ]
          },
          "metadata": {},
          "execution_count": 166
        }
      ]
    },
    {
      "cell_type": "code",
      "source": [
        "X = dataframe.iloc[: , 0:cols-1 ]    #every row and columns from index 0 to last-1\n",
        "y = dataframe.iloc[: , cols-1:cols]  #every row and columns of index last-1 to last"
      ],
      "metadata": {
        "id": "KgQXpmYENRuG"
      },
      "execution_count": 167,
      "outputs": []
    },
    {
      "cell_type": "markdown",
      "source": [
        "#Converting dataframe to numpy matrices and creating aparameter (theta) matrix"
      ],
      "metadata": {
        "id": "L-FOid56OjCb"
      }
    },
    {
      "cell_type": "code",
      "source": [
        "X = np.matrix( X.values ) \n",
        "y = np.matrix( y.values )"
      ],
      "metadata": {
        "id": "wzIsUJLHOZV2"
      },
      "execution_count": 168,
      "outputs": []
    },
    {
      "cell_type": "code",
      "source": [
        "theta = np.matrix( np.array([0,0]))   \n",
        "theta"
      ],
      "metadata": {
        "colab": {
          "base_uri": "https://localhost:8080/"
        },
        "id": "X8JHxSX9PNqK",
        "outputId": "788d29c5-357c-4b0a-84fe-3b52f460f4ff"
      },
      "execution_count": 169,
      "outputs": [
        {
          "output_type": "execute_result",
          "data": {
            "text/plain": [
              "matrix([[0, 0]])"
            ]
          },
          "metadata": {},
          "execution_count": 169
        }
      ]
    },
    {
      "cell_type": "code",
      "source": [
        "X.shape,  y.shape,  theta.shape #Dimensions of x, y and theta"
      ],
      "metadata": {
        "colab": {
          "base_uri": "https://localhost:8080/"
        },
        "id": "c0NZmKmaPjVX",
        "outputId": "38f689b6-895a-449e-f12b-043aa9db489d"
      },
      "execution_count": 170,
      "outputs": [
        {
          "output_type": "execute_result",
          "data": {
            "text/plain": [
              "((97, 2), (97, 1), (1, 2))"
            ]
          },
          "metadata": {},
          "execution_count": 170
        }
      ]
    },
    {
      "cell_type": "code",
      "source": [
        "computecost(X, y, theta)  #function call and calculates cost function"
      ],
      "metadata": {
        "colab": {
          "base_uri": "https://localhost:8080/"
        },
        "id": "IOcGfjiiPxeQ",
        "outputId": "600dd494-b5fe-42be-c45f-83b887e4be40"
      },
      "execution_count": 171,
      "outputs": [
        {
          "output_type": "execute_result",
          "data": {
            "text/plain": [
              "32.072733877455676"
            ]
          },
          "metadata": {},
          "execution_count": 171
        }
      ]
    },
    {
      "cell_type": "markdown",
      "source": [
        "# Function to perform Gradient Descent on parameters theta by repeatedly updating the parameters"
      ],
      "metadata": {
        "id": "0qf1ui1aQZW5"
      }
    },
    {
      "cell_type": "code",
      "source": [
        "def gradientDescent(X, y, theta, alpha, iters):\n",
        "    temp = np.matrix(np.zeros(theta.shape))\n",
        "    parameters = int(theta.ravel().shape[1])\n",
        "    cost = np.zeros(iters)\n",
        "    \n",
        "    # With each iteration, we are calculating the changes to be made to the\n",
        "    # parameter (theta) value to reduce the error (cost)\n",
        "    for i in range(iters):\n",
        "        error = (X * theta.T) - y\n",
        "        \n",
        "        # number of parameters to be calculated,here we have 2 parameters theta [0,0] and theta [0,1]\n",
        "        for j in range(parameters):\n",
        "            term  = np.multiply(error, X[:, j])\n",
        "            temp[0,j] = theta[0,j] -((alpha / len(X)) * np.sum(term))\n",
        "          \n",
        "        theta = temp\n",
        "        cost[i] = computecost(X, y, theta)\n",
        "        \n",
        "    return theta, cost"
      ],
      "metadata": {
        "id": "9Gu5l4v_QACR"
      },
      "execution_count": 172,
      "outputs": []
    },
    {
      "cell_type": "markdown",
      "source": [
        "### Set values for learning rate and number of iterations\n",
        "- alpha here denotes the learning rate that helps to determine how quickly the algorithm\n",
        "    will converge to the optimal solution\n",
        "- iters denotes the number of iterations"
      ],
      "metadata": {
        "id": "JCy7znGmTxSa"
      }
    },
    {
      "cell_type": "code",
      "execution_count": 174,
      "metadata": {
        "id": "bNCSxl86JL0a"
      },
      "outputs": [],
      "source": [
        "alpha = 0.01\n",
        "iterations = 1000\n",
        "# perform gradient descent to fit the model parameters and compute the cost\n",
        "g, cost = gradientDescent(X, y, theta, alpha, iters)"
      ]
    },
    {
      "cell_type": "code",
      "source": [
        "print(g)"
      ],
      "metadata": {
        "colab": {
          "base_uri": "https://localhost:8080/"
        },
        "id": "IaulzDikbKpw",
        "outputId": "da18cb2c-4ea9-48ca-a860-8f22a3538db1"
      },
      "execution_count": 175,
      "outputs": [
        {
          "output_type": "stream",
          "name": "stdout",
          "text": [
            "[[-3.89578082  1.19303364]]\n"
          ]
        }
      ]
    },
    {
      "cell_type": "code",
      "source": [
        "print(cost)"
      ],
      "metadata": {
        "colab": {
          "base_uri": "https://localhost:8080/"
        },
        "id": "sVe_pR8qbNX0",
        "outputId": "1b3cefa7-785e-4004-cdcd-d6b34d72918e"
      },
      "execution_count": 176,
      "outputs": [
        {
          "output_type": "stream",
          "name": "stdout",
          "text": [
            "[6.73719046 5.93159357 5.90115471 ... 4.47697138 4.47697138 4.47697138]\n"
          ]
        }
      ]
    },
    {
      "cell_type": "code",
      "source": [
        "computecost(X, y, g)"
      ],
      "metadata": {
        "colab": {
          "base_uri": "https://localhost:8080/"
        },
        "id": "g0R0XyumbOCh",
        "outputId": "da44bd6c-6bde-4ccd-be0d-cfbb20116cc3"
      },
      "execution_count": 178,
      "outputs": [
        {
          "output_type": "execute_result",
          "data": {
            "text/plain": [
              "4.476971375975179"
            ]
          },
          "metadata": {},
          "execution_count": 178
        }
      ]
    },
    {
      "cell_type": "markdown",
      "source": [
        "### Using Matplotlib library to visualize our solution using scatter plot"
      ],
      "metadata": {
        "id": "Zh0BmrJDb8E-"
      }
    },
    {
      "cell_type": "code",
      "source": [
        "# linspace function will create an evenly-spaced series of points within the range of our data\n",
        "x = np.linspace(dataframe.Population.min(), dataframe.Population.max(), 100)  \n",
        "f = g[0, 0] + (g[0, 1] * x)\n",
        "\n",
        "fig, ax = mat.subplots(figsize=(10,5))  \n",
        "ax.plot(x, f, 'r', label='Prediction')  \n",
        "ax.scatter(dataframe.Population, dataframe.Profit, label='Traning Data')  \n",
        "ax.legend(loc=2)  \n",
        "ax.set_xlabel('Population')  \n",
        "ax.set_ylabel('Profit')  \n",
        "ax.set_title('Predicted Profit vs. Population Size')\n"
      ],
      "metadata": {
        "colab": {
          "base_uri": "https://localhost:8080/",
          "height": 367
        },
        "id": "MSp58PJ6bZXW",
        "outputId": "c8be2966-9fcc-4747-ee4d-729c5eedc527"
      },
      "execution_count": 182,
      "outputs": [
        {
          "output_type": "execute_result",
          "data": {
            "text/plain": [
              "Text(0.5, 1.0, 'Predicted Profit vs. Population Size')"
            ]
          },
          "metadata": {},
          "execution_count": 182
        },
        {
          "output_type": "display_data",
          "data": {
            "text/plain": [
              "<Figure size 720x360 with 1 Axes>"
            ],
            "image/png": "[encoded data removed]"
          },
          "metadata": {
            "needs_background": "light"
          }
        }
      ]
    },
    {
      "cell_type": "markdown",
      "source": [
        "###  Plotting the graph of the gradient descent function which outputs a vector with the cost at each training iteration."
      ],
      "metadata": {
        "id": "iwaDHvUkcFLk"
      }
    },
    {
      "cell_type": "code",
      "source": [
        "fig, ax = mat.subplots(figsize = (10,5))\n",
        "ax.plot(np.arange(iters), cost, 'r')\n",
        "ax.set_xlabel('Iterations')\n",
        "ax.set_ylabel('Cost')\n",
        "ax.set_title('Error vs Training epoch')"
      ],
      "metadata": {
        "colab": {
          "base_uri": "https://localhost:8080/",
          "height": 367
        },
        "id": "z7aSXTzubaqt",
        "outputId": "95b4c604-3147-4ae5-b7d5-dc86c5aa8e9a"
      },
      "execution_count": 184,
      "outputs": [
        {
          "output_type": "execute_result",
          "data": {
            "text/plain": [
              "Text(0.5, 1.0, 'Error vs Training epoch')"
            ]
          },
          "metadata": {},
          "execution_count": 184
        },
        {
          "output_type": "display_data",
          "data": {
            "text/plain": [
              "<Figure size 720x360 with 1 Axes>"
            ],
            "image/png": "[encoded data removed]"
          },
          "metadata": {
            "needs_background": "light"
          }
        }
      ]
    }
  ]
}
