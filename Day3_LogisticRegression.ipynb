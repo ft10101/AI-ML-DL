{ 
  "nbformat": 4,
  "nbformat_minor": 0,
  "metadata": {
    "colab": {
      "provenance": [],
      "authorship_tag": "ABX9TyPXS8plWWQ6s1SGFNw/6n7J",
      "include_colab_link": true
    },
    "kernelspec": {
      "name": "python3",
      "display_name": "Python 3"
    },
    "language_info": {
      "name": "python"
    }
  },
  "cells": [
    {
      "cell_type": "markdown",
      "metadata": {
        "id": "view-in-github",
        "colab_type": "text"
      },
      "source": [
        "<a href=\"https://colab.research.google.com/github/ft10101/AI-ML/blob/main/Day3_LogisticRegression.ipynb\" target=\"_parent\"><img src=\"https://colab.research.google.com/assets/colab-badge.svg\" alt=\"Open In Colab\"/></a>"
      ]
    },
    {
      "cell_type": "markdown",
      "source": [
        "# First of all we import the data from the dataset\n",
        "> **we import the iris data set from the sklearn liberary**"
      ],
      "metadata": {
        "id": "XcWD3YIf-Ax6"
      }
    },
    {
      "cell_type": "code",
      "execution_count": 93,
      "metadata": {
        "colab": {
          "base_uri": "https://localhost:8080/"
        },
        "id": "DTCbVnci3TbQ",
        "outputId": "6558c734-b0be-4a1b-c9dc-d8c28dd1bc74"
      },
      "outputs": [
        {
          "output_type": "execute_result",
          "data": {
            "text/plain": [
              "['DESCR',\n",
              " 'data',\n",
              " 'data_module',\n",
              " 'feature_names',\n",
              " 'filename',\n",
              " 'frame',\n",
              " 'target',\n",
              " 'target_names']"
            ]
          },
          "metadata": {},
          "execution_count": 93
        }
      ],
      "source": [
        "import pandas as pd\n",
        "from sklearn.datasets import load_iris\n",
        "iris_data=load_iris()\n",
        "dir(iris_data)"
      ]
    },
    {
      "cell_type": "code",
      "source": [
        "print(iris_data.target)"
      ],
      "metadata": {
        "colab": {
          "base_uri": "https://localhost:8080/"
        },
        "id": "C22aCT6l6Hx0",
        "outputId": "a3227da7-d594-484e-d5b4-c2177cf8c97b"
      },
      "execution_count": 94,
      "outputs": [
        {
          "output_type": "stream",
          "name": "stdout",
          "text": [
            "[0 0 0 0 0 0 0 0 0 0 0 0 0 0 0 0 0 0 0 0 0 0 0 0 0 0 0 0 0 0 0 0 0 0 0 0 0\n",
            " 0 0 0 0 0 0 0 0 0 0 0 0 0 1 1 1 1 1 1 1 1 1 1 1 1 1 1 1 1 1 1 1 1 1 1 1 1\n",
            " 1 1 1 1 1 1 1 1 1 1 1 1 1 1 1 1 1 1 1 1 1 1 1 1 1 1 2 2 2 2 2 2 2 2 2 2 2\n",
            " 2 2 2 2 2 2 2 2 2 2 2 2 2 2 2 2 2 2 2 2 2 2 2 2 2 2 2 2 2 2 2 2 2 2 2 2 2\n",
            " 2 2]\n"
          ]
        }
      ]
    },
    {
      "cell_type": "code",
      "source": [
        "print(iris_data.feature_names)"
      ],
      "metadata": {
        "colab": {
          "base_uri": "https://localhost:8080/"
        },
        "id": "0h3_xCQ_9Q6a",
        "outputId": "cafe7449-43db-4656-ef27-ab35df5a2da3"
      },
      "execution_count": 95,
      "outputs": [
        {
          "output_type": "stream",
          "name": "stdout",
          "text": [
            "['sepal length (cm)', 'sepal width (cm)', 'petal length (cm)', 'petal width (cm)']\n"
          ]
        }
      ]
    },
    {
      "cell_type": "code",
      "source": [
        "print(iris_data.target_names)"
      ],
      "metadata": {
        "colab": {
          "base_uri": "https://localhost:8080/"
        },
        "id": "A-Vbf9y69Tyi",
        "outputId": "3f31d4e0-71cf-4077-f52f-c1f8ad88aaae"
      },
      "execution_count": 96,
      "outputs": [
        {
          "output_type": "stream",
          "name": "stdout",
          "text": [
            "['setosa' 'versicolor' 'virginica']\n"
          ]
        }
      ]
    },
    {
      "cell_type": "code",
      "source": [
        "labels = iris_data['target_names']\n",
        "description = iris_data['DESCR']\n",
        "feature_names = iris_data['feature_names']"
      ],
      "metadata": {
        "id": "Rscxt_2a3-s6"
      },
      "execution_count": 97,
      "outputs": []
    },
    {
      "cell_type": "code",
      "source": [
        "print(f\"This is a dataset with {len(iris_data.data)} samples.\\n{len(labels)} classes.\\n{len(feature_names)} features for each sample.\")"
      ],
      "metadata": {
        "colab": {
          "base_uri": "https://localhost:8080/"
        },
        "id": "SbBIBZ3U5wRk",
        "outputId": "322a05fb-9716-4b2e-bd41-024d4e2d9141"
      },
      "execution_count": 98,
      "outputs": [
        {
          "output_type": "stream",
          "name": "stdout",
          "text": [
            "This is a dataset with 150 samples.\n",
            "3 classes.\n",
            "4 features for each sample.\n"
          ]
        }
      ]
    },
    {
      "cell_type": "code",
      "source": [
        "print(f\"Feature names: {feature_names}\")"
      ],
      "metadata": {
        "colab": {
          "base_uri": "https://localhost:8080/"
        },
        "id": "lkUV-mxj9cSy",
        "outputId": "0a7efff6-3a67-45f5-e03a-0623660b2292"
      },
      "execution_count": 99,
      "outputs": [
        {
          "output_type": "stream",
          "name": "stdout",
          "text": [
            "Feature names: ['sepal length (cm)', 'sepal width (cm)', 'petal length (cm)', 'petal width (cm)']\n"
          ]
        }
      ]
    },
    {
      "cell_type": "code",
      "source": [
        "print(f\"Label Names:{labels}\")"
      ],
      "metadata": {
        "colab": {
          "base_uri": "https://localhost:8080/"
        },
        "id": "faPV7QJu9fFB",
        "outputId": "43bf71f5-3d2c-4a07-bf3c-9ef19f0c8f18"
      },
      "execution_count": 100,
      "outputs": [
        {
          "output_type": "stream",
          "name": "stdout",
          "text": [
            "Label Names:['setosa' 'versicolor' 'virginica']\n"
          ]
        }
      ]
    },
    {
      "cell_type": "code",
      "source": [
        "print(f\"---------\\nSample input feature vector: {iris_data['data'][1]}\\nLabel: {iris_data['target'][1]}\")"
      ],
      "metadata": {
        "colab": {
          "base_uri": "https://localhost:8080/"
        },
        "id": "lE41n-SW9hhH",
        "outputId": "0778e82d-296f-491f-ad27-c6b5458c1ba0"
      },
      "execution_count": 101,
      "outputs": [
        {
          "output_type": "stream",
          "name": "stdout",
          "text": [
            "---------\n",
            "Sample input feature vector: [4.9 3.  1.4 0.2]\n",
            "Label: 0\n"
          ]
        }
      ]
    },
    {
      "cell_type": "markdown",
      "source": [
        "# Now we divide the data into test and train data by using the sklearn's train_test_split"
      ],
      "metadata": {
        "id": "H7l3Zzc4-KEO"
      }
    },
    {
      "cell_type": "code",
      "source": [
        "from sklearn.model_selection import train_test_split"
      ],
      "metadata": {
        "id": "t_qOWrhZ-JjN"
      },
      "execution_count": 102,
      "outputs": []
    },
    {
      "cell_type": "code",
      "source": [
        "input_train,input_test,output_train,output_test=train_test_split(iris_data.data,iris_data.target,test_size=0.2)\n",
        "#train_test_split function splits the input and output data into 4 different variables\n",
        "len(input_train),len(input_test)"
      ],
      "metadata": {
        "colab": {
          "base_uri": "https://localhost:8080/"
        },
        "id": "E6bNjYYV-JJP",
        "outputId": "fbf37c3c-75b6-4e02-bbe3-e01bfc042df6"
      },
      "execution_count": 103,
      "outputs": [
        {
          "output_type": "execute_result",
          "data": {
            "text/plain": [
              "(120, 30)"
            ]
          },
          "metadata": {},
          "execution_count": 103
        }
      ]
    },
    {
      "cell_type": "markdown",
      "source": [
        "# Now we train our model"
      ],
      "metadata": {
        "id": "7zbnh9se_l6A"
      }
    },
    {
      "cell_type": "code",
      "source": [
        "from sklearn.linear_model import LogisticRegression"
      ],
      "metadata": {
        "id": "FxIu3IST-1Qg"
      },
      "execution_count": 104,
      "outputs": []
    },
    {
      "cell_type": "code",
      "source": [
        "logi_reg = LogisticRegression()\n",
        "logi_reg.fit(input_train,output_train)  #This step trains the model on the input and output training data "
      ],
      "metadata": {
        "colab": {
          "base_uri": "https://localhost:8080/"
        },
        "id": "XUUVGK9B_r1p",
        "outputId": "a7b1a784-a5d5-4bd0-b465-eb4faecb00cd"
      },
      "execution_count": 105,
      "outputs": [
        {
          "output_type": "execute_result",
          "data": {
            "text/plain": [
              "LogisticRegression()"
            ]
          },
          "metadata": {},
          "execution_count": 105
        }
      ]
    },
    {
      "cell_type": "markdown",
      "source": [
        "# Lets Test the Model"
      ],
      "metadata": {
        "id": "dKyWG1DZAfza"
      }
    },
    {
      "cell_type": "code",
      "source": [
        "output_pred = logi_reg.predict(input_test)\n",
        "output_pred"
      ],
      "metadata": {
        "colab": {
          "base_uri": "https://localhost:8080/"
        },
        "id": "8mPDYDzNAfT4",
        "outputId": "b40730fa-aaad-4478-95c5-636d2543fab4"
      },
      "execution_count": 106,
      "outputs": [
        {
          "output_type": "execute_result",
          "data": {
            "text/plain": [
              "array([2, 1, 0, 0, 0, 2, 2, 2, 0, 1, 1, 2, 1, 1, 0, 2, 2, 1, 0, 0, 1, 1,\n",
              "       0, 2, 1, 0, 1, 1, 2, 1])"
            ]
          },
          "metadata": {},
          "execution_count": 106
        }
      ]
    },
    {
      "cell_type": "code",
      "source": [
        "output_test"
      ],
      "metadata": {
        "colab": {
          "base_uri": "https://localhost:8080/"
        },
        "id": "zep6xptHAsVI",
        "outputId": "234ebf5e-def5-4694-e7a3-57ade060b7e9"
      },
      "execution_count": 107,
      "outputs": [
        {
          "output_type": "execute_result",
          "data": {
            "text/plain": [
              "array([2, 1, 0, 0, 0, 2, 2, 2, 0, 1, 1, 2, 1, 1, 0, 2, 2, 2, 0, 0, 1, 1,\n",
              "       0, 2, 1, 0, 1, 2, 2, 1])"
            ]
          },
          "metadata": {},
          "execution_count": 107
        }
      ]
    },
    {
      "cell_type": "markdown",
      "source": [
        "# Lets find the accuracy of the Model\n"
      ],
      "metadata": {
        "id": "yG8BFMxlA4pd"
      }
    },
    {
      "cell_type": "code",
      "source": [
        "logi_reg.score(input_test, output_test)"
      ],
      "metadata": {
        "colab": {
          "base_uri": "https://localhost:8080/"
        },
        "id": "afCwGJmiA0CK",
        "outputId": "e43f7546-feb0-499e-ad39-5e4d2ad7000e"
      },
      "execution_count": 108,
      "outputs": [
        {
          "output_type": "execute_result",
          "data": {
            "text/plain": [
              "0.9333333333333333"
            ]
          },
          "metadata": {},
          "execution_count": 108
        }
      ]
    },
    {
      "cell_type": "code",
      "source": [
        "from sklearn.metrics import accuracy_score\n",
        "accuracy=accuracy_score(output_pred, output_test)\n",
        "accuracy"
      ],
      "metadata": {
        "colab": {
          "base_uri": "https://localhost:8080/"
        },
        "id": "-XY2K7taBS-R",
        "outputId": "16ba607b-87cb-4216-9cf7-f20f30516b87"
      },
      "execution_count": 109,
      "outputs": [
        {
          "output_type": "execute_result",
          "data": {
            "text/plain": [
              "0.9333333333333333"
            ]
          },
          "metadata": {},
          "execution_count": 109
        }
      ]
    },
    {
      "cell_type": "markdown",
      "source": [
        "## **Number of samples in each class in Test set**"
      ],
      "metadata": {
        "id": "v_XE7LY9Bw_s"
      }
    },
    {
      "cell_type": "code",
      "source": [
        "import numpy as np\n",
        "value, count=np.unique(output_test, return_counts=True)\n",
        "print(value), print(count)"
      ],
      "metadata": {
        "colab": {
          "base_uri": "https://localhost:8080/"
        },
        "id": "y3BJdSVVBtar",
        "outputId": "259f63a1-2009-4768-d3ba-d6e3f189c8ac"
      },
      "execution_count": 111,
      "outputs": [
        {
          "output_type": "stream",
          "name": "stdout",
          "text": [
            "[0 1 2]\n",
            "[ 9 10 11]\n"
          ]
        },
        {
          "output_type": "execute_result",
          "data": {
            "text/plain": [
              "(None, None)"
            ]
          },
          "metadata": {},
          "execution_count": 111
        }
      ]
    },
    {
      "cell_type": "code",
      "source": [
        "from sklearn.metrics import confusion_matrix\n",
        "import seaborn as sns\n",
        "sns.heatmap(data=confusion_matrix(output_test, output_pred), annot=True)"
      ],
      "metadata": {
        "colab": {
          "base_uri": "https://localhost:8080/",
          "height": 286
        },
        "id": "dLn5wjzFBufZ",
        "outputId": "419ee63b-2a23-4019-a9a2-fba6791adf2e"
      },
      "execution_count": 112,
      "outputs": [
        {
          "output_type": "execute_result",
          "data": {
            "text/plain": [
              "<matplotlib.axes._subplots.AxesSubplot at 0x7f0078191670>"
            ]
          },
          "metadata": {},
          "execution_count": 112
        },
        {
          "output_type": "display_data",
          "data": {
            "text/plain": [
              "<Figure size 432x288 with 2 Axes>"
            ],
            "image/png": "[encoded data removed]"
          },
          "metadata": {
            "needs_background": "light"
          }
        }
      ]
    }
  ]
}
